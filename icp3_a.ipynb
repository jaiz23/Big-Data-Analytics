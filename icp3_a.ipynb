{
  "nbformat": 4,
  "nbformat_minor": 0,
  "metadata": {
    "colab": {
      "provenance": [],
      "mount_file_id": "1T-4ThcoIIxty5U7K4cyxUT0J6BRw5vOq",
      "authorship_tag": "ABX9TyO3MnkOdCGy1EXHEi/VGS4P",
      "include_colab_link": true
    },
    "kernelspec": {
      "name": "python3",
      "display_name": "Python 3"
    },
    "language_info": {
      "name": "python"
    }
  },
  "cells": [
    {
      "cell_type": "markdown",
      "metadata": {
        "id": "view-in-github",
        "colab_type": "text"
      },
      "source": [
        "<a href=\"https://colab.research.google.com/github/jaiz23/Big-Data-Analytics/blob/main/icp3_a.ipynb\" target=\"_parent\"><img src=\"https://colab.research.google.com/assets/colab-badge.svg\" alt=\"Open In Colab\"/></a>"
      ]
    },
    {
      "cell_type": "markdown",
      "source": [
        "a. Using NumPy create random vector of size 15 having only Integers in the range 1-20.\n",
        "1. Reshape the array to 3 by 5\n",
        "2. Print array shape.\n",
        "3. Replace the max in each row by 0"
      ],
      "metadata": {
        "id": "m3WCZKWM7F0b"
      }
    },
    {
      "cell_type": "code",
      "source": [
        "import numpy as np\n",
        "import pandas as pd\n"
      ],
      "metadata": {
        "id": "fvuB0tjS7VYi"
      },
      "execution_count": null,
      "outputs": []
    },
    {
      "cell_type": "code",
      "source": [
        "# 1.  np.random().randint will create ndarray with random numbers between the given range and the number elements in array is determined by size parameter.\n",
        "arr = np.random.randint(1,21,size=15)\n",
        "print(arr)"
      ],
      "metadata": {
        "colab": {
          "base_uri": "https://localhost:8080/"
        },
        "id": "vvRZWU5z3fco",
        "outputId": "1d3699cf-c758-48b1-f77d-d664d1b4f6e8"
      },
      "execution_count": null,
      "outputs": [
        {
          "output_type": "stream",
          "name": "stdout",
          "text": [
            "[ 9  4 12 10 15  4 15 15  4 18 11 14  1  2 18]\n"
          ]
        }
      ]
    },
    {
      "cell_type": "code",
      "source": [
        "# 2. reshape function change the shape of the ndarray with the specified shape. first parameter is row and second parameter is column.\n",
        "# Array size should be rows * column, Then only it will change the shape of ndarray.\n",
        "arrReshaped = arr.reshape(3,5)"
      ],
      "metadata": {
        "id": "DSLRAxbs33DD"
      },
      "execution_count": null,
      "outputs": []
    },
    {
      "cell_type": "code",
      "source": [
        "print(arrReshaped)"
      ],
      "metadata": {
        "colab": {
          "base_uri": "https://localhost:8080/"
        },
        "id": "U36k0Eoy35yx",
        "outputId": "3c4e4346-0764-434d-b7c9-8a0cb1cc36ee"
      },
      "execution_count": null,
      "outputs": [
        {
          "output_type": "stream",
          "name": "stdout",
          "text": [
            "[[12 20  6  6  4]\n",
            " [13  8  3 17 15]\n",
            " [ 4 12 11 19  8]]\n"
          ]
        }
      ]
    },
    {
      "cell_type": "code",
      "source": [
        "# 3. To change max element in each row, we can use max() function with axis =1 which checks the max value for each row and keepsdim=True returns the array with reduced axes.\n",
        "# With the help of boolean masking we can change max value in each row with 0."
      ],
      "metadata": {
        "id": "C-nw6_T04DxS"
      },
      "execution_count": null,
      "outputs": []
    },
    {
      "cell_type": "code",
      "source": [
        "row_max = arrReshaped.max(axis=1,keepdims=True)\n"
      ],
      "metadata": {
        "id": "2-TFfzH_a6gt"
      },
      "execution_count": null,
      "outputs": []
    },
    {
      "cell_type": "code",
      "source": [
        "boolean_mask = arrReshaped == row_max"
      ],
      "metadata": {
        "id": "0GBvc2bilnkZ"
      },
      "execution_count": null,
      "outputs": []
    },
    {
      "cell_type": "code",
      "source": [
        "print(boolean_mask)"
      ],
      "metadata": {
        "colab": {
          "base_uri": "https://localhost:8080/"
        },
        "id": "DNDJXufG6xwr",
        "outputId": "183a8d04-b03c-4cce-a5f5-ec50580a631a"
      },
      "execution_count": null,
      "outputs": [
        {
          "output_type": "stream",
          "name": "stdout",
          "text": [
            "[[False False  True False False]\n",
            " [False  True  True False False]\n",
            " [False  True False False False]]\n"
          ]
        }
      ]
    },
    {
      "cell_type": "code",
      "source": [
        "arrReshaped[boolean_mask] = 0"
      ],
      "metadata": {
        "id": "4s-CMP39l2XS"
      },
      "execution_count": null,
      "outputs": []
    },
    {
      "cell_type": "markdown",
      "source": [],
      "metadata": {
        "id": "NnKKMeUpme3o"
      }
    },
    {
      "cell_type": "code",
      "source": [
        "print(arrReshaped)"
      ],
      "metadata": {
        "colab": {
          "base_uri": "https://localhost:8080/"
        },
        "id": "2MCZdbuwl-uF",
        "outputId": "b8131682-e97a-4006-b90d-ee7cacde9c42"
      },
      "execution_count": null,
      "outputs": [
        {
          "output_type": "stream",
          "name": "stdout",
          "text": [
            "[[ 9  4  0 10  0]\n",
            " [ 4  0  0  4  0]\n",
            " [11  0  1  2  0]]\n"
          ]
        }
      ]
    },
    {
      "cell_type": "markdown",
      "source": [
        "Create a 2-dimensional array of size 4 x 3 (composed of 4-byte integer elements), also print the shape, type and data\n",
        "type of the array."
      ],
      "metadata": {
        "id": "JuGZ-rvgmkmn"
      }
    },
    {
      "cell_type": "code",
      "source": [
        "arr2 = np.arange(12,dtype=np.int32).reshape(4,3)"
      ],
      "metadata": {
        "id": "UT1OWAiqmrSi"
      },
      "execution_count": null,
      "outputs": []
    },
    {
      "cell_type": "code",
      "source": [
        "# np.arange() function create a array within a range of values. we can define datatype of array with dtype parameter.\n",
        "# The ask is to define 4-byte integer so int32 is 4 byte integer. (one byte = 8 bits. 4 bytes = 32 bits).\n",
        "# reshape() function modify the dimension of array."
      ],
      "metadata": {
        "id": "FPiWcjkin4sq"
      },
      "execution_count": null,
      "outputs": []
    },
    {
      "cell_type": "code",
      "source": [
        "print(arr2)"
      ],
      "metadata": {
        "colab": {
          "base_uri": "https://localhost:8080/"
        },
        "id": "5nJTfo0T72oo",
        "outputId": "3f512cd0-97cf-46c1-f406-6dcaf970dcda"
      },
      "execution_count": null,
      "outputs": [
        {
          "output_type": "stream",
          "name": "stdout",
          "text": [
            "[[ 0  1  2]\n",
            " [ 3  4  5]\n",
            " [ 6  7  8]\n",
            " [ 9 10 11]]\n"
          ]
        }
      ]
    },
    {
      "cell_type": "code",
      "source": [
        "# shape"
      ],
      "metadata": {
        "id": "6FGgvOD9pG_T"
      },
      "execution_count": null,
      "outputs": []
    },
    {
      "cell_type": "code",
      "source": [
        "print(arr2.shape)"
      ],
      "metadata": {
        "colab": {
          "base_uri": "https://localhost:8080/"
        },
        "id": "zOlO5N9ipMSB",
        "outputId": "305b4869-79fe-461a-e867-9431a7c2b5c0"
      },
      "execution_count": null,
      "outputs": [
        {
          "output_type": "stream",
          "name": "stdout",
          "text": [
            "(4, 3)\n"
          ]
        }
      ]
    },
    {
      "cell_type": "code",
      "source": [
        "# type of array"
      ],
      "metadata": {
        "id": "CuB1OX2UpP_s"
      },
      "execution_count": null,
      "outputs": []
    },
    {
      "cell_type": "code",
      "source": [
        "print(type(arr2))"
      ],
      "metadata": {
        "colab": {
          "base_uri": "https://localhost:8080/"
        },
        "id": "qFsUjA2Q78N4",
        "outputId": "28b88757-9ef3-418d-f187-17af77019941"
      },
      "execution_count": null,
      "outputs": [
        {
          "output_type": "stream",
          "name": "stdout",
          "text": [
            "<class 'numpy.ndarray'>\n"
          ]
        }
      ]
    },
    {
      "cell_type": "code",
      "source": [
        "# data type of array"
      ],
      "metadata": {
        "id": "sJ9COot_pWtz"
      },
      "execution_count": null,
      "outputs": []
    },
    {
      "cell_type": "code",
      "source": [
        "print(arr2.dtype)"
      ],
      "metadata": {
        "colab": {
          "base_uri": "https://localhost:8080/"
        },
        "id": "zeF-uGF58BvK",
        "outputId": "429ea551-3dff-4b32-a449-8641088b0a30"
      },
      "execution_count": null,
      "outputs": [
        {
          "output_type": "stream",
          "name": "stdout",
          "text": [
            "int32\n"
          ]
        }
      ]
    },
    {
      "cell_type": "code",
      "source": [],
      "metadata": {
        "id": "8EUk5vvg8Kt6"
      },
      "execution_count": null,
      "outputs": []
    },
    {
      "cell_type": "markdown",
      "source": [
        "c. Write a program to compute the eigenvalues and right eigenvectors of a given square array given below:\n",
        "[[ 3 -2]\n",
        "[ 1 0]]\n",
        "\n"
      ],
      "metadata": {
        "id": "3MRkcP63Cr2p"
      }
    },
    {
      "cell_type": "code",
      "source": [
        "arr3 = np.array([[3,-2],[1,0]])"
      ],
      "metadata": {
        "id": "pZ_-hsVlCtA8"
      },
      "execution_count": null,
      "outputs": []
    },
    {
      "cell_type": "code",
      "source": [
        "arr3 = np.array([[3, -2],\n",
        "                   [1,  0]])\n",
        "eigenvalues, eigenvectors = np.linalg.eig(arr3)\n",
        "print(\"Eigenvalues:\", eigenvalues)\n",
        "print(\"Eigenvectors:\\n\", eigenvectors)"
      ],
      "metadata": {
        "id": "ja5_vE5aDDJx",
        "colab": {
          "base_uri": "https://localhost:8080/"
        },
        "outputId": "a25fe917-5c85-4cd7-eba7-0c641ac523f7"
      },
      "execution_count": null,
      "outputs": [
        {
          "output_type": "stream",
          "name": "stdout",
          "text": [
            "Eigenvalues: [2. 1.]\n",
            "Eigenvectors:\n",
            " [[0.89442719 0.70710678]\n",
            " [0.4472136  0.70710678]]\n"
          ]
        }
      ]
    },
    {
      "cell_type": "markdown",
      "source": [
        "Compute the sum of the diagonal element of a given array.\n",
        "[[0 1 2]\n",
        "[3 4 5]]"
      ],
      "metadata": {
        "id": "OxFpc94cYOsU"
      }
    },
    {
      "cell_type": "code",
      "source": [
        "arr4 = np.array([[0,1,2],[3,4,5]])"
      ],
      "metadata": {
        "id": "_B57g7slYVra"
      },
      "execution_count": null,
      "outputs": []
    },
    {
      "cell_type": "code",
      "source": [
        "diag_sum = 0\n",
        "rows, cols = arr4.shape\n",
        "\n",
        "for i in range(min(rows, cols)):  # ensure we stay within bounds for non-square matrices\n",
        "    diag_sum += arr4[i][i]\n",
        "\n",
        "print(\"Sum of diagonal elements:-\", diag_sum)"
      ],
      "metadata": {
        "colab": {
          "base_uri": "https://localhost:8080/"
        },
        "id": "t-u4q69kYsrE",
        "outputId": "0b5d32a6-0234-49ae-9c14-fed051161904"
      },
      "execution_count": null,
      "outputs": [
        {
          "output_type": "stream",
          "name": "stdout",
          "text": [
            "Sum of diagonal elements:- 4\n"
          ]
        }
      ]
    },
    {
      "cell_type": "markdown",
      "source": [
        "Write a NumPy program to create a new shape to an array without changing its data.\n",
        "Reshape 3x2:\n",
        "[[1 2]\n",
        "[3 4]\n",
        "[5 6]]\n",
        "Reshape 2x3:\n",
        "[[1 2 3]\n",
        "[4 5 6]]"
      ],
      "metadata": {
        "id": "VpnjEoEsY7pd"
      }
    },
    {
      "cell_type": "code",
      "source": [
        "arr5 = np.array([[1, 2],\n",
        "                [3, 4],\n",
        "                [5, 6]])\n",
        "print(\"Original Array:\\n\", arr5)\n",
        "reshaped_arr = arr5.reshape(2, 3)\n",
        "print(\"Reshaped 2x3 Array:\\n\", reshaped_arr)"
      ],
      "metadata": {
        "colab": {
          "base_uri": "https://localhost:8080/"
        },
        "id": "Zhh9YKwTZCEG",
        "outputId": "7c721d98-1c61-4503-dc99-8258a79634f1"
      },
      "execution_count": null,
      "outputs": [
        {
          "output_type": "stream",
          "name": "stdout",
          "text": [
            "Original Array:\n",
            " [[1 2]\n",
            " [3 4]\n",
            " [5 6]]\n",
            "Reshaped 2x3 Array:\n",
            " [[1 2 3]\n",
            " [4 5 6]]\n"
          ]
        }
      ]
    },
    {
      "cell_type": "code",
      "source": [],
      "metadata": {
        "id": "Fjh558DpYvSt"
      },
      "execution_count": null,
      "outputs": []
    }
  ]
}