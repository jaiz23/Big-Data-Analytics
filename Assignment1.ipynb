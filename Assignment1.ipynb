{
  "nbformat": 4,
  "nbformat_minor": 0,
  "metadata": {
    "colab": {
      "provenance": [],
      "mount_file_id": "1Helu6Mjv9_oPydKrz-2-UNL_5Ugt9Cb_",
      "authorship_tag": "ABX9TyP6wg/TMqBgE5YyXj5O7IqG",
      "include_colab_link": true
    },
    "kernelspec": {
      "name": "python3",
      "display_name": "Python 3"
    },
    "language_info": {
      "name": "python"
    }
  },
  "cells": [
    {
      "cell_type": "markdown",
      "metadata": {
        "id": "view-in-github",
        "colab_type": "text"
      },
      "source": [
        "<a href=\"https://colab.research.google.com/github/jaiz23/Big-Data-Analytics/blob/main/Assignment1.ipynb\" target=\"_parent\"><img src=\"https://colab.research.google.com/assets/colab-badge.svg\" alt=\"Open In Colab\"/></a>"
      ]
    },
    {
      "cell_type": "code",
      "execution_count": null,
      "metadata": {
        "id": "Iq4k7BfqN8R1"
      },
      "outputs": [],
      "source": []
    },
    {
      "cell_type": "markdown",
      "source": [
        "5. a)  Input the string “Python” as a list of characters from console, delete at least 2 characters, reverse the resultant string, and print it."
      ],
      "metadata": {
        "id": "97OICAKyVkAF"
      }
    },
    {
      "cell_type": "code",
      "source": [
        "inputString = input()"
      ],
      "metadata": {
        "colab": {
          "base_uri": "https://localhost:8080/"
        },
        "id": "fiMaojXoVrbp",
        "outputId": "94c59ac6-97c5-4d38-eb13-6b1906f318fc"
      },
      "execution_count": 1,
      "outputs": [
        {
          "name": "stdout",
          "output_type": "stream",
          "text": [
            "Python\n"
          ]
        }
      ]
    },
    {
      "cell_type": "code",
      "source": [
        "convertToList = list(inputString)"
      ],
      "metadata": {
        "id": "plwaHQfBVycq"
      },
      "execution_count": 2,
      "outputs": []
    },
    {
      "cell_type": "code",
      "source": [
        "del convertToList[0]"
      ],
      "metadata": {
        "id": "CSsBnwBbV--O"
      },
      "execution_count": 3,
      "outputs": []
    },
    {
      "cell_type": "code",
      "source": [
        "del convertToList[1]"
      ],
      "metadata": {
        "id": "o_pSlNA9V_Hu"
      },
      "execution_count": 4,
      "outputs": []
    },
    {
      "cell_type": "code",
      "source": [
        "convertToList.reverse()"
      ],
      "metadata": {
        "id": "Dkr8Ndj1WGph"
      },
      "execution_count": 5,
      "outputs": []
    },
    {
      "cell_type": "code",
      "source": [
        "joinList = ''.join(convertToList)"
      ],
      "metadata": {
        "id": "Nld2rHjeWJsV"
      },
      "execution_count": 6,
      "outputs": []
    },
    {
      "cell_type": "code",
      "source": [
        "print(joinList)"
      ],
      "metadata": {
        "colab": {
          "base_uri": "https://localhost:8080/"
        },
        "id": "0JwbrcJkWPc2",
        "outputId": "0212e37f-cd10-443d-f250-b6d56aff7229"
      },
      "execution_count": 7,
      "outputs": [
        {
          "output_type": "stream",
          "name": "stdout",
          "text": [
            "nohy\n"
          ]
        }
      ]
    },
    {
      "cell_type": "markdown",
      "source": [
        "b. Take two numbers from user and perform at least 4 arithmetic operations on them."
      ],
      "metadata": {
        "id": "Lij8MGo8WYbu"
      }
    },
    {
      "cell_type": "code",
      "source": [
        "firstNumber = int(input())\n",
        "secondNumber = int(input())"
      ],
      "metadata": {
        "colab": {
          "base_uri": "https://localhost:8080/"
        },
        "id": "-QM33wDjWaAi",
        "outputId": "20299d38-8a6b-47ed-9b6c-ca976133220d"
      },
      "execution_count": 8,
      "outputs": [
        {
          "name": "stdout",
          "output_type": "stream",
          "text": [
            "3\n",
            "4\n"
          ]
        }
      ]
    },
    {
      "cell_type": "markdown",
      "source": [
        "Addition"
      ],
      "metadata": {
        "id": "qgjjGMMiW4P6"
      }
    },
    {
      "cell_type": "code",
      "source": [
        "print(firstNumber + secondNumber)"
      ],
      "metadata": {
        "colab": {
          "base_uri": "https://localhost:8080/"
        },
        "id": "WokTLnCJW5dI",
        "outputId": "102bb3a3-cd4a-4ac0-8d56-3f541bdf78b1"
      },
      "execution_count": 9,
      "outputs": [
        {
          "output_type": "stream",
          "name": "stdout",
          "text": [
            "7\n"
          ]
        }
      ]
    },
    {
      "cell_type": "markdown",
      "source": [
        "Subtraction"
      ],
      "metadata": {
        "id": "BHB9mF4jX1im"
      }
    },
    {
      "cell_type": "code",
      "source": [
        "print(firstNumber - secondNumber)"
      ],
      "metadata": {
        "colab": {
          "base_uri": "https://localhost:8080/"
        },
        "id": "iQGkRqlRX4O_",
        "outputId": "57e93da6-f4e3-4f76-efb0-99a8b4ad1188"
      },
      "execution_count": 10,
      "outputs": [
        {
          "output_type": "stream",
          "name": "stdout",
          "text": [
            "-1\n"
          ]
        }
      ]
    },
    {
      "cell_type": "markdown",
      "source": [],
      "metadata": {
        "id": "AJE0bqBLYCl3"
      }
    },
    {
      "cell_type": "markdown",
      "source": [
        "power"
      ],
      "metadata": {
        "id": "utIWKZF_YEZt"
      }
    },
    {
      "cell_type": "code",
      "source": [
        "print(firstNumber ** secondNumber)"
      ],
      "metadata": {
        "colab": {
          "base_uri": "https://localhost:8080/"
        },
        "id": "a2sXfIoUYF2C",
        "outputId": "ec029553-5e11-413d-9806-5a3aadd71587"
      },
      "execution_count": 11,
      "outputs": [
        {
          "output_type": "stream",
          "name": "stdout",
          "text": [
            "81\n"
          ]
        }
      ]
    },
    {
      "cell_type": "markdown",
      "source": [
        "Multiplication"
      ],
      "metadata": {
        "id": "snSjvGyjYLcf"
      }
    },
    {
      "cell_type": "code",
      "source": [
        "print(firstNumber*secondNumber)"
      ],
      "metadata": {
        "colab": {
          "base_uri": "https://localhost:8080/"
        },
        "id": "0kHAxtgYYNSF",
        "outputId": "56fe6bed-e634-43f8-b765-b67c47c4a137"
      },
      "execution_count": 12,
      "outputs": [
        {
          "output_type": "stream",
          "name": "stdout",
          "text": [
            "12\n"
          ]
        }
      ]
    },
    {
      "cell_type": "markdown",
      "source": [
        "6. Write a program that accepts a sentence and replace each occurrence of ‘python’ with ‘pythons"
      ],
      "metadata": {
        "id": "DL9alGe8YRse"
      }
    },
    {
      "cell_type": "code",
      "source": [
        "sentenceString = input()"
      ],
      "metadata": {
        "colab": {
          "base_uri": "https://localhost:8080/"
        },
        "id": "KFTh9xgkYYJY",
        "outputId": "a907cef1-087d-46cb-aa2e-16c301af0b7e"
      },
      "execution_count": 13,
      "outputs": [
        {
          "name": "stdout",
          "output_type": "stream",
          "text": [
            "I love playing with python\n"
          ]
        }
      ]
    },
    {
      "cell_type": "code",
      "source": [
        "sentenceString.replace('python','pythons')"
      ],
      "metadata": {
        "colab": {
          "base_uri": "https://localhost:8080/",
          "height": 35
        },
        "id": "o_7izukwYeuQ",
        "outputId": "03bcdb2e-e4dd-40ea-9875-e9e6ba38ed0e"
      },
      "execution_count": 14,
      "outputs": [
        {
          "output_type": "execute_result",
          "data": {
            "text/plain": [
              "'I love playing with pythons'"
            ],
            "application/vnd.google.colaboratory.intrinsic+json": {
              "type": "string"
            }
          },
          "metadata": {},
          "execution_count": 14
        }
      ]
    },
    {
      "cell_type": "markdown",
      "source": [
        "6. Use the if statement conditionsto write a program to print the letter grade based on an input class score. Use the grading scheme we are using in this class."
      ],
      "metadata": {
        "id": "iiuOobeQecZd"
      }
    },
    {
      "cell_type": "code",
      "source": [
        "score = float(input())\n",
        "grade = ''\n",
        "\n",
        "if score >= 90 and score <= 100:\n",
        "    grade = 'A'\n",
        "elif score >= 80:\n",
        "    grade = 'B'\n",
        "elif score >= 70:\n",
        "    grade = 'C'\n",
        "elif score >= 60:\n",
        "    grade = 'D'\n",
        "elif score >= 0:\n",
        "    grade = 'F'\n",
        "else:\n",
        "    print(\"Invalid score. Please enter a value between 0 and 100.\")\n",
        "\n",
        "print(\"Grade: \", grade)"
      ],
      "metadata": {
        "colab": {
          "base_uri": "https://localhost:8080/"
        },
        "id": "xp5MWi2Recsd",
        "outputId": "59380e20-2d0b-4e67-a8b8-047f556ef692"
      },
      "execution_count": 19,
      "outputs": [
        {
          "output_type": "stream",
          "name": "stdout",
          "text": [
            "67\n",
            "Grade:  D\n"
          ]
        }
      ]
    },
    {
      "cell_type": "markdown",
      "source": [
        "Write a code that appends the type of elements from a given list.\n",
        "Input\n",
        "x = [23, ‘Python’, 23.98]"
      ],
      "metadata": {
        "id": "QosrZzs8fHUU"
      }
    },
    {
      "cell_type": "code",
      "source": [
        "x = [23,'python',23.6]"
      ],
      "metadata": {
        "id": "zednZFekf7xG"
      },
      "execution_count": 20,
      "outputs": []
    },
    {
      "cell_type": "code",
      "source": [
        "types = [type(i) for i in x]"
      ],
      "metadata": {
        "id": "E9oQokshglqB"
      },
      "execution_count": 22,
      "outputs": []
    },
    {
      "cell_type": "code",
      "source": [
        "print(types)"
      ],
      "metadata": {
        "colab": {
          "base_uri": "https://localhost:8080/"
        },
        "id": "y76QHS1hgp6N",
        "outputId": "11acc73f-3d29-4bf5-dd11-c5fea9aeae8e"
      },
      "execution_count": 23,
      "outputs": [
        {
          "output_type": "stream",
          "name": "stdout",
          "text": [
            "[<class 'int'>, <class 'str'>, <class 'float'>]\n"
          ]
        }
      ]
    },
    {
      "cell_type": "code",
      "source": [
        "IT_companies = {'Facebook', 'Google', 'Microsoft', 'Apple', 'IBM', 'Oracle', 'Amazon'}\n",
        "A = {19, 22, 24, 20, 25, 26}\n",
        "B = {19, 22, 20, 25, 26, 24, 28, 27}\n",
        "age = [22, 19, 24, 25, 26, 24, 25, 24]"
      ],
      "metadata": {
        "id": "5hnAsdVdgtyT"
      },
      "execution_count": 24,
      "outputs": []
    },
    {
      "cell_type": "code",
      "source": [],
      "metadata": {
        "id": "CQZnjupBg0-8"
      },
      "execution_count": null,
      "outputs": []
    },
    {
      "cell_type": "markdown",
      "source": [
        "1. Find the length of the set IT_companies"
      ],
      "metadata": {
        "id": "mJs0JV39g4FJ"
      }
    },
    {
      "cell_type": "code",
      "source": [
        "print(\"Length of IT_Companies\", len(IT_companies))"
      ],
      "metadata": {
        "colab": {
          "base_uri": "https://localhost:8080/"
        },
        "id": "5cWwFNVTg4wS",
        "outputId": "7a5cb5ed-961b-4638-9bf7-d05d9981eab1"
      },
      "execution_count": 25,
      "outputs": [
        {
          "output_type": "stream",
          "name": "stdout",
          "text": [
            "Length of IT_Companies 7\n"
          ]
        }
      ]
    },
    {
      "cell_type": "markdown",
      "source": [
        "2. Add 'Twitter' to IT_companies"
      ],
      "metadata": {
        "id": "Zx2mKaUMhIUC"
      }
    },
    {
      "cell_type": "code",
      "source": [
        "IT_companies.add('Twitter')\n",
        "print(\"After adding Twitter:\", IT_companies)\n"
      ],
      "metadata": {
        "colab": {
          "base_uri": "https://localhost:8080/"
        },
        "id": "IXWkwchVhNQ-",
        "outputId": "012267f1-115c-48c4-9f47-dd30ba702d49"
      },
      "execution_count": 26,
      "outputs": [
        {
          "output_type": "stream",
          "name": "stdout",
          "text": [
            "After adding Twitter: {'Microsoft', 'Oracle', 'Twitter', 'Amazon', 'Facebook', 'Google', 'Apple', 'IBM'}\n"
          ]
        }
      ]
    },
    {
      "cell_type": "markdown",
      "source": [
        "3. Insert multiple IT companies at once"
      ],
      "metadata": {
        "id": "lZS5WIVPhV2K"
      }
    },
    {
      "cell_type": "code",
      "source": [
        "IT_companies.update(['Tesla', 'Adobe', 'Intel'])\n",
        "print(\"After adding multiple companies:\", IT_companies)"
      ],
      "metadata": {
        "colab": {
          "base_uri": "https://localhost:8080/"
        },
        "id": "cniWyWszhehF",
        "outputId": "db071de2-87a3-4433-c3ea-fc83382f9ccd"
      },
      "execution_count": 27,
      "outputs": [
        {
          "output_type": "stream",
          "name": "stdout",
          "text": [
            "After adding multiple companies: {'Intel', 'Twitter', 'IBM', 'Tesla', 'Oracle', 'Amazon', 'Apple', 'Microsoft', 'Adobe', 'Facebook', 'Google'}\n"
          ]
        }
      ]
    },
    {
      "cell_type": "markdown",
      "source": [
        "4. Remove one of the companies from the set\n"
      ],
      "metadata": {
        "id": "wNVb0PB4hivv"
      }
    },
    {
      "cell_type": "code",
      "source": [
        "IT_companies.remove('Oracle')\n",
        "print(\"After removing Oracle:\", IT_companies)"
      ],
      "metadata": {
        "colab": {
          "base_uri": "https://localhost:8080/"
        },
        "id": "QCgddq9Mhpw4",
        "outputId": "42ef22f7-dd01-4248-bd52-b96d059c9cc0"
      },
      "execution_count": 28,
      "outputs": [
        {
          "output_type": "stream",
          "name": "stdout",
          "text": [
            "After removing Oracle: {'Intel', 'Twitter', 'IBM', 'Tesla', 'Amazon', 'Apple', 'Microsoft', 'Adobe', 'Facebook', 'Google'}\n"
          ]
        }
      ]
    },
    {
      "cell_type": "markdown",
      "source": [],
      "metadata": {
        "id": "n1S5BMBCht2m"
      }
    },
    {
      "cell_type": "markdown",
      "source": [
        "5. Difference between remove and discard\n",
        "\n"
      ],
      "metadata": {
        "id": "VgAbgijAhvVi"
      }
    },
    {
      "cell_type": "code",
      "source": [
        "IT_companies.remove('Netflix')"
      ],
      "metadata": {
        "colab": {
          "base_uri": "https://localhost:8080/",
          "height": 144
        },
        "id": "fekLOemFh4vO",
        "outputId": "67cea425-6e5d-4412-8880-c3400d8e6a6c"
      },
      "execution_count": 29,
      "outputs": [
        {
          "output_type": "error",
          "ename": "KeyError",
          "evalue": "'Netflix'",
          "traceback": [
            "\u001b[0;31m---------------------------------------------------------------------------\u001b[0m",
            "\u001b[0;31mKeyError\u001b[0m                                  Traceback (most recent call last)",
            "\u001b[0;32m/tmp/ipython-input-29-1336197660.py\u001b[0m in \u001b[0;36m<cell line: 0>\u001b[0;34m()\u001b[0m\n\u001b[0;32m----> 1\u001b[0;31m \u001b[0mIT_companies\u001b[0m\u001b[0;34m.\u001b[0m\u001b[0mremove\u001b[0m\u001b[0;34m(\u001b[0m\u001b[0;34m'Netflix'\u001b[0m\u001b[0;34m)\u001b[0m\u001b[0;34m\u001b[0m\u001b[0;34m\u001b[0m\u001b[0m\n\u001b[0m",
            "\u001b[0;31mKeyError\u001b[0m: 'Netflix'"
          ]
        }
      ]
    },
    {
      "cell_type": "code",
      "source": [
        "# remove() raises an error if the element is not found\n"
      ],
      "metadata": {
        "id": "F0QjZ_OPiBw_"
      },
      "execution_count": 30,
      "outputs": []
    },
    {
      "cell_type": "code",
      "source": [
        "IT_companies.discard('Netflix')"
      ],
      "metadata": {
        "id": "mb6l49spiHSP"
      },
      "execution_count": 31,
      "outputs": []
    },
    {
      "cell_type": "code",
      "source": [
        "# discard() does NOT raise an error if the element is not found"
      ],
      "metadata": {
        "id": "f_9nAPJhiKuE"
      },
      "execution_count": 32,
      "outputs": []
    },
    {
      "cell_type": "markdown",
      "source": [
        "6. Join A and B (Union)"
      ],
      "metadata": {
        "id": "TDH68uWgiUMP"
      }
    },
    {
      "cell_type": "code",
      "source": [
        "print(\"A union B:\", A.union(B))"
      ],
      "metadata": {
        "colab": {
          "base_uri": "https://localhost:8080/"
        },
        "id": "vdA02ShRiU39",
        "outputId": "aa3c415f-30e0-4d47-c077-da4e0a2e8218"
      },
      "execution_count": 33,
      "outputs": [
        {
          "output_type": "stream",
          "name": "stdout",
          "text": [
            "A union B: {19, 20, 22, 24, 25, 26, 27, 28}\n"
          ]
        }
      ]
    },
    {
      "cell_type": "markdown",
      "source": [
        "7. Find A intersection B\n"
      ],
      "metadata": {
        "id": "VNDypPAjid5L"
      }
    },
    {
      "cell_type": "code",
      "source": [
        "print(\"A intersection B:\", A.intersection(B))"
      ],
      "metadata": {
        "colab": {
          "base_uri": "https://localhost:8080/"
        },
        "id": "KrnBRRSrifB8",
        "outputId": "64650c55-22ac-4383-c736-3615917699fa"
      },
      "execution_count": 35,
      "outputs": [
        {
          "output_type": "stream",
          "name": "stdout",
          "text": [
            "A intersection B: {19, 20, 22, 24, 25, 26}\n"
          ]
        }
      ]
    },
    {
      "cell_type": "markdown",
      "source": [
        "8. Is A subset of B?"
      ],
      "metadata": {
        "id": "z0KoVMoQikZc"
      }
    },
    {
      "cell_type": "code",
      "source": [
        "print(\"Is A subset of B?\", A.issubset(B))"
      ],
      "metadata": {
        "colab": {
          "base_uri": "https://localhost:8080/"
        },
        "id": "DgUjBfGfim-s",
        "outputId": "2807ee99-52d7-4319-f8b2-00fb754734f8"
      },
      "execution_count": 36,
      "outputs": [
        {
          "output_type": "stream",
          "name": "stdout",
          "text": [
            "Is A subset of B? True\n"
          ]
        }
      ]
    },
    {
      "cell_type": "markdown",
      "source": [
        "9. Are A and B disjoint sets?"
      ],
      "metadata": {
        "id": "Au1SNWEziwwl"
      }
    },
    {
      "cell_type": "code",
      "source": [
        "print(\"Are A and B disjoint?\", A.isdisjoint(B))"
      ],
      "metadata": {
        "colab": {
          "base_uri": "https://localhost:8080/"
        },
        "id": "m9DH1x8piyo4",
        "outputId": "33aaaf75-a8a7-440b-e7d4-562756c8808c"
      },
      "execution_count": 37,
      "outputs": [
        {
          "output_type": "stream",
          "name": "stdout",
          "text": [
            "Are A and B disjoint? False\n"
          ]
        }
      ]
    },
    {
      "cell_type": "markdown",
      "source": [
        "10. Join A with B and B with A (union both ways, same result)"
      ],
      "metadata": {
        "id": "T17UmYpPi3uN"
      }
    },
    {
      "cell_type": "code",
      "source": [
        "print(\"A | B:\", A | B)\n",
        "print(\"B | A:\", B | A)"
      ],
      "metadata": {
        "colab": {
          "base_uri": "https://localhost:8080/"
        },
        "id": "tALAPZc-i4XN",
        "outputId": "3439172d-f4e4-4213-959b-89a71ccbc57c"
      },
      "execution_count": 38,
      "outputs": [
        {
          "output_type": "stream",
          "name": "stdout",
          "text": [
            "A | B: {19, 20, 22, 24, 25, 26, 27, 28}\n",
            "B | A: {19, 20, 22, 24, 25, 26, 27, 28}\n"
          ]
        }
      ]
    },
    {
      "cell_type": "markdown",
      "source": [
        "11. Symmetric difference between A and B"
      ],
      "metadata": {
        "id": "qVgnDEtMjBOv"
      }
    },
    {
      "cell_type": "code",
      "source": [],
      "metadata": {
        "id": "orPTUeaPjBn1"
      },
      "execution_count": null,
      "outputs": []
    },
    {
      "cell_type": "code",
      "source": [
        "print(\"Symmetric difference:\", A.symmetric_difference(B))\n"
      ],
      "metadata": {
        "colab": {
          "base_uri": "https://localhost:8080/"
        },
        "id": "8_PmxmAYjJ80",
        "outputId": "955d83e8-adf5-4a1f-c1a7-479bc131c918"
      },
      "execution_count": 40,
      "outputs": [
        {
          "output_type": "stream",
          "name": "stdout",
          "text": [
            "Symmetric difference: {27, 28}\n"
          ]
        }
      ]
    },
    {
      "cell_type": "markdown",
      "source": [
        "12. Delete the sets completely"
      ],
      "metadata": {
        "id": "QslYf5-TjQs1"
      }
    },
    {
      "cell_type": "code",
      "source": [
        "del A\n",
        "del B"
      ],
      "metadata": {
        "id": "wD4In8hjjRUy"
      },
      "execution_count": 41,
      "outputs": []
    },
    {
      "cell_type": "code",
      "source": [
        "print(A)\n",
        "print(B)"
      ],
      "metadata": {
        "colab": {
          "base_uri": "https://localhost:8080/",
          "height": 162
        },
        "id": "GPoitizpjTuf",
        "outputId": "92bec735-73b1-42c5-8359-a88310bdcf4c"
      },
      "execution_count": 42,
      "outputs": [
        {
          "output_type": "error",
          "ename": "NameError",
          "evalue": "name 'A' is not defined",
          "traceback": [
            "\u001b[0;31m---------------------------------------------------------------------------\u001b[0m",
            "\u001b[0;31mNameError\u001b[0m                                 Traceback (most recent call last)",
            "\u001b[0;32m/tmp/ipython-input-42-1599583493.py\u001b[0m in \u001b[0;36m<cell line: 0>\u001b[0;34m()\u001b[0m\n\u001b[0;32m----> 1\u001b[0;31m \u001b[0mprint\u001b[0m\u001b[0;34m(\u001b[0m\u001b[0mA\u001b[0m\u001b[0;34m)\u001b[0m\u001b[0;34m\u001b[0m\u001b[0;34m\u001b[0m\u001b[0m\n\u001b[0m\u001b[1;32m      2\u001b[0m \u001b[0mprint\u001b[0m\u001b[0;34m(\u001b[0m\u001b[0mB\u001b[0m\u001b[0;34m)\u001b[0m\u001b[0;34m\u001b[0m\u001b[0;34m\u001b[0m\u001b[0m\n",
            "\u001b[0;31mNameError\u001b[0m: name 'A' is not defined"
          ]
        }
      ]
    },
    {
      "cell_type": "code",
      "source": [
        "# del keyword in Python is used to remove a reference to an object. When del is used on a set, it removes the variable name that was pointing to that set object., It throws error"
      ],
      "metadata": {
        "id": "02rU-VJWjW8W"
      },
      "execution_count": 43,
      "outputs": []
    },
    {
      "cell_type": "markdown",
      "source": [
        "13. Convert age list to a set and compare lengths\n"
      ],
      "metadata": {
        "id": "ybpGju5IjxPY"
      }
    },
    {
      "cell_type": "code",
      "source": [
        "age_set = set(age)\n",
        "print(\"Length of age list:\", len(age))\n",
        "print(\"Length of age set:\", len(age_set))"
      ],
      "metadata": {
        "colab": {
          "base_uri": "https://localhost:8080/"
        },
        "id": "FGufMnXmj1W6",
        "outputId": "5a86c3aa-6ef1-4325-9ef2-77e2e9f1e01c"
      },
      "execution_count": 44,
      "outputs": [
        {
          "output_type": "stream",
          "name": "stdout",
          "text": [
            "Length of age list: 8\n",
            "Length of age set: 5\n"
          ]
        }
      ]
    },
    {
      "cell_type": "code",
      "source": [
        "# difference is because set does not allow duplicate entry"
      ],
      "metadata": {
        "id": "-HWItG1oj5IH"
      },
      "execution_count": 45,
      "outputs": []
    },
    {
      "cell_type": "code",
      "source": [],
      "metadata": {
        "id": "PmMPSlEckHPc"
      },
      "execution_count": null,
      "outputs": []
    }
  ]
}