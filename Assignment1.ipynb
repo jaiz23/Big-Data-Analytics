{
  "nbformat": 4,
  "nbformat_minor": 0,
  "metadata": {
    "colab": {
      "provenance": [],
      "mount_file_id": "1Helu6Mjv9_oPydKrz-2-UNL_5Ugt9Cb_",
      "authorship_tag": "ABX9TyPvsIsRQYUBYMCA1gmTLw8X",
      "include_colab_link": true
    },
    "kernelspec": {
      "name": "python3",
      "display_name": "Python 3"
    },
    "language_info": {
      "name": "python"
    }
  },
  "cells": [
    {
      "cell_type": "markdown",
      "metadata": {
        "id": "view-in-github",
        "colab_type": "text"
      },
      "source": [
        "<a href=\"https://colab.research.google.com/github/jaiz23/Big-Data-Analytics/blob/main/Assignment1.ipynb\" target=\"_parent\"><img src=\"https://colab.research.google.com/assets/colab-badge.svg\" alt=\"Open In Colab\"/></a>"
      ]
    },
    {
      "cell_type": "code",
      "execution_count": null,
      "metadata": {
        "id": "Iq4k7BfqN8R1"
      },
      "outputs": [],
      "source": []
    },
    {
      "cell_type": "markdown",
      "source": [
        "5. a)  Input the string “Python” as a list of characters from console, delete at least 2 characters, reverse the resultant string, and print it."
      ],
      "metadata": {
        "id": "97OICAKyVkAF"
      }
    },
    {
      "cell_type": "code",
      "source": [
        "inputString = input()"
      ],
      "metadata": {
        "colab": {
          "base_uri": "https://localhost:8080/"
        },
        "id": "fiMaojXoVrbp",
        "outputId": "789c2bae-3af9-45fe-c43f-3b784428f352"
      },
      "execution_count": 2,
      "outputs": [
        {
          "name": "stdout",
          "output_type": "stream",
          "text": [
            "Python\n"
          ]
        }
      ]
    },
    {
      "cell_type": "code",
      "source": [
        "convertToList = list(inputString)"
      ],
      "metadata": {
        "id": "plwaHQfBVycq"
      },
      "execution_count": 3,
      "outputs": []
    },
    {
      "cell_type": "code",
      "source": [
        "del convertToList[0]"
      ],
      "metadata": {
        "id": "CSsBnwBbV--O"
      },
      "execution_count": 4,
      "outputs": []
    },
    {
      "cell_type": "code",
      "source": [
        "del convertToList[1]"
      ],
      "metadata": {
        "id": "o_pSlNA9V_Hu"
      },
      "execution_count": 5,
      "outputs": []
    },
    {
      "cell_type": "code",
      "source": [
        "convertToList.reverse()"
      ],
      "metadata": {
        "id": "Dkr8Ndj1WGph"
      },
      "execution_count": 6,
      "outputs": []
    },
    {
      "cell_type": "code",
      "source": [
        "joinList = ''.join(convertToList)"
      ],
      "metadata": {
        "id": "Nld2rHjeWJsV"
      },
      "execution_count": 7,
      "outputs": []
    },
    {
      "cell_type": "code",
      "source": [
        "print(joinList)"
      ],
      "metadata": {
        "colab": {
          "base_uri": "https://localhost:8080/"
        },
        "id": "0JwbrcJkWPc2",
        "outputId": "43131a77-2884-4a6c-839e-fcd14ef6a9c6"
      },
      "execution_count": 8,
      "outputs": [
        {
          "output_type": "stream",
          "name": "stdout",
          "text": [
            "nohy\n"
          ]
        }
      ]
    },
    {
      "cell_type": "markdown",
      "source": [
        "b. Take two numbers from user and perform at least 4 arithmetic operations on them."
      ],
      "metadata": {
        "id": "Lij8MGo8WYbu"
      }
    },
    {
      "cell_type": "code",
      "source": [
        "firstNumber = int(input())\n",
        "secondNumber = int(input())"
      ],
      "metadata": {
        "colab": {
          "base_uri": "https://localhost:8080/"
        },
        "id": "-QM33wDjWaAi",
        "outputId": "e101a976-7954-42ad-e211-d58ce7a315b3"
      },
      "execution_count": 9,
      "outputs": [
        {
          "name": "stdout",
          "output_type": "stream",
          "text": [
            "3\n",
            "4\n"
          ]
        }
      ]
    },
    {
      "cell_type": "markdown",
      "source": [
        "Addition"
      ],
      "metadata": {
        "id": "qgjjGMMiW4P6"
      }
    },
    {
      "cell_type": "code",
      "source": [
        "print(firstNumber + secondNumber)"
      ],
      "metadata": {
        "colab": {
          "base_uri": "https://localhost:8080/"
        },
        "id": "WokTLnCJW5dI",
        "outputId": "6263d681-4cc8-42c9-f380-dadefb109680"
      },
      "execution_count": 10,
      "outputs": [
        {
          "output_type": "stream",
          "name": "stdout",
          "text": [
            "7\n"
          ]
        }
      ]
    },
    {
      "cell_type": "markdown",
      "source": [
        "Subtraction"
      ],
      "metadata": {
        "id": "BHB9mF4jX1im"
      }
    },
    {
      "cell_type": "code",
      "source": [
        "print(firstNumber - secondNumber)"
      ],
      "metadata": {
        "colab": {
          "base_uri": "https://localhost:8080/"
        },
        "id": "iQGkRqlRX4O_",
        "outputId": "c156841d-3d0b-4f65-a71f-a6cf56eb60fc"
      },
      "execution_count": 11,
      "outputs": [
        {
          "output_type": "stream",
          "name": "stdout",
          "text": [
            "-1\n"
          ]
        }
      ]
    },
    {
      "cell_type": "markdown",
      "source": [],
      "metadata": {
        "id": "AJE0bqBLYCl3"
      }
    },
    {
      "cell_type": "markdown",
      "source": [
        "power"
      ],
      "metadata": {
        "id": "utIWKZF_YEZt"
      }
    },
    {
      "cell_type": "code",
      "source": [
        "print(firstNumber ** secondNumber)"
      ],
      "metadata": {
        "colab": {
          "base_uri": "https://localhost:8080/"
        },
        "id": "a2sXfIoUYF2C",
        "outputId": "0a801968-ae4d-40ca-cd30-975eecd97cb5"
      },
      "execution_count": 12,
      "outputs": [
        {
          "output_type": "stream",
          "name": "stdout",
          "text": [
            "81\n"
          ]
        }
      ]
    },
    {
      "cell_type": "markdown",
      "source": [
        "Multiplication"
      ],
      "metadata": {
        "id": "snSjvGyjYLcf"
      }
    },
    {
      "cell_type": "code",
      "source": [
        "print(firstNumber*secondNumber)"
      ],
      "metadata": {
        "colab": {
          "base_uri": "https://localhost:8080/"
        },
        "id": "0kHAxtgYYNSF",
        "outputId": "1e6a0346-85d3-4967-8ba1-d86b5b444638"
      },
      "execution_count": 13,
      "outputs": [
        {
          "output_type": "stream",
          "name": "stdout",
          "text": [
            "12\n"
          ]
        }
      ]
    },
    {
      "cell_type": "markdown",
      "source": [
        "6. Write a program that accepts a sentence and replace each occurrence of ‘python’ with ‘pythons"
      ],
      "metadata": {
        "id": "DL9alGe8YRse"
      }
    },
    {
      "cell_type": "code",
      "source": [
        "sentenceString = input()"
      ],
      "metadata": {
        "colab": {
          "base_uri": "https://localhost:8080/"
        },
        "id": "KFTh9xgkYYJY",
        "outputId": "d7835fdf-5e6e-46a5-eb69-ac65f38b236c"
      },
      "execution_count": 14,
      "outputs": [
        {
          "name": "stdout",
          "output_type": "stream",
          "text": [
            "I love playing with python\n"
          ]
        }
      ]
    },
    {
      "cell_type": "code",
      "source": [
        "sentenceString.replace('python','pythons')"
      ],
      "metadata": {
        "colab": {
          "base_uri": "https://localhost:8080/",
          "height": 35
        },
        "id": "o_7izukwYeuQ",
        "outputId": "3a4207d0-2cb7-44d4-8fdc-e83c0d2fbf74"
      },
      "execution_count": 16,
      "outputs": [
        {
          "output_type": "execute_result",
          "data": {
            "text/plain": [
              "'I love playing with pythons'"
            ],
            "application/vnd.google.colaboratory.intrinsic+json": {
              "type": "string"
            }
          },
          "metadata": {},
          "execution_count": 16
        }
      ]
    },
    {
      "cell_type": "markdown",
      "source": [
        "6. Use the if statement conditionsto write a program to print the letter grade based on an input class score. Use the grading scheme we are using in this class."
      ],
      "metadata": {
        "id": "iiuOobeQecZd"
      }
    },
    {
      "cell_type": "code",
      "source": [
        "score = float(input())\n",
        "grade = ''\n",
        "\n",
        "if score >= 90 and score <= 100:\n",
        "    grade = 'A'\n",
        "elif score >= 80:\n",
        "    grade = 'B'\n",
        "elif score >= 70:\n",
        "    grade = 'C'\n",
        "elif score >= 60:\n",
        "    grade = 'D'\n",
        "elif score >= 0:\n",
        "    grade = 'F'\n",
        "else:\n",
        "    print(\"Invalid score. Please enter a value between 0 and 100.\")\n",
        "\n",
        "print(\"Grade: \", grade)"
      ],
      "metadata": {
        "colab": {
          "base_uri": "https://localhost:8080/"
        },
        "id": "xp5MWi2Recsd",
        "outputId": "0404f309-cd27-43e5-c446-7563a1d55b0f"
      },
      "execution_count": 17,
      "outputs": [
        {
          "output_type": "stream",
          "name": "stdout",
          "text": [
            "78\n",
            "Grade:  C\n"
          ]
        }
      ]
    },
    {
      "cell_type": "markdown",
      "source": [
        "Write a code that appends the type of elements from a given list.\n",
        "Input\n",
        "x = [23, ‘Python’, 23.98]"
      ],
      "metadata": {
        "id": "QosrZzs8fHUU"
      }
    },
    {
      "cell_type": "code",
      "source": [
        "x = [23,'python',23.6]"
      ],
      "metadata": {
        "id": "zednZFekf7xG"
      },
      "execution_count": 18,
      "outputs": []
    },
    {
      "cell_type": "code",
      "source": [
        "types = [type(i) for i in x]"
      ],
      "metadata": {
        "id": "E9oQokshglqB"
      },
      "execution_count": 19,
      "outputs": []
    },
    {
      "cell_type": "code",
      "source": [
        "print(types)"
      ],
      "metadata": {
        "colab": {
          "base_uri": "https://localhost:8080/"
        },
        "id": "y76QHS1hgp6N",
        "outputId": "84eba46e-169d-4677-cc60-23d20dbb53b2"
      },
      "execution_count": 20,
      "outputs": [
        {
          "output_type": "stream",
          "name": "stdout",
          "text": [
            "[<class 'int'>, <class 'str'>, <class 'float'>]\n"
          ]
        }
      ]
    },
    {
      "cell_type": "code",
      "source": [
        "IT_companies = {'Facebook', 'Google', 'Microsoft', 'Apple', 'IBM', 'Oracle', 'Amazon'}\n",
        "A = {19, 22, 24, 20, 25, 26}\n",
        "B = {19, 22, 20, 25, 26, 24, 28, 27}\n",
        "age = [22, 19, 24, 25, 26, 24, 25, 24]"
      ],
      "metadata": {
        "id": "5hnAsdVdgtyT"
      },
      "execution_count": 21,
      "outputs": []
    },
    {
      "cell_type": "code",
      "source": [],
      "metadata": {
        "id": "CQZnjupBg0-8"
      },
      "execution_count": null,
      "outputs": []
    },
    {
      "cell_type": "markdown",
      "source": [
        "1. Find the length of the set IT_companies"
      ],
      "metadata": {
        "id": "mJs0JV39g4FJ"
      }
    },
    {
      "cell_type": "code",
      "source": [
        "print(\"Length of IT_Companies\", len(IT_companies))"
      ],
      "metadata": {
        "colab": {
          "base_uri": "https://localhost:8080/"
        },
        "id": "5cWwFNVTg4wS",
        "outputId": "6ed6522a-1fcf-4954-a603-5fdb91bded7b"
      },
      "execution_count": 22,
      "outputs": [
        {
          "output_type": "stream",
          "name": "stdout",
          "text": [
            "Length of IT_Companies 7\n"
          ]
        }
      ]
    },
    {
      "cell_type": "markdown",
      "source": [
        "2. Add 'Twitter' to IT_companies"
      ],
      "metadata": {
        "id": "Zx2mKaUMhIUC"
      }
    },
    {
      "cell_type": "code",
      "source": [
        "IT_companies.add('Twitter')\n",
        "print(\"After adding Twitter:\", IT_companies)\n"
      ],
      "metadata": {
        "colab": {
          "base_uri": "https://localhost:8080/"
        },
        "id": "IXWkwchVhNQ-",
        "outputId": "2b6d6b19-87a4-4532-997f-33daa94ffa79"
      },
      "execution_count": 23,
      "outputs": [
        {
          "output_type": "stream",
          "name": "stdout",
          "text": [
            "After adding Twitter: {'Oracle', 'Apple', 'Facebook', 'IBM', 'Twitter', 'Amazon', 'Google', 'Microsoft'}\n"
          ]
        }
      ]
    },
    {
      "cell_type": "markdown",
      "source": [
        "3. Insert multiple IT companies at once"
      ],
      "metadata": {
        "id": "lZS5WIVPhV2K"
      }
    },
    {
      "cell_type": "code",
      "source": [
        "IT_companies.update(['Tesla', 'Adobe', 'Intel'])\n",
        "print(\"After adding multiple companies:\", IT_companies)"
      ],
      "metadata": {
        "colab": {
          "base_uri": "https://localhost:8080/"
        },
        "id": "cniWyWszhehF",
        "outputId": "3fd7fe1c-3da8-448c-9dca-bcc392b23cd1"
      },
      "execution_count": 24,
      "outputs": [
        {
          "output_type": "stream",
          "name": "stdout",
          "text": [
            "After adding multiple companies: {'Facebook', 'Google', 'Microsoft', 'Oracle', 'Apple', 'IBM', 'Intel', 'Tesla', 'Amazon', 'Twitter', 'Adobe'}\n"
          ]
        }
      ]
    },
    {
      "cell_type": "markdown",
      "source": [
        "4. Remove one of the companies from the set\n"
      ],
      "metadata": {
        "id": "wNVb0PB4hivv"
      }
    },
    {
      "cell_type": "code",
      "source": [
        "IT_companies.remove('Oracle')\n",
        "print(\"After removing Oracle:\", IT_companies)"
      ],
      "metadata": {
        "colab": {
          "base_uri": "https://localhost:8080/"
        },
        "id": "QCgddq9Mhpw4",
        "outputId": "bab0c0cd-8534-482c-f9f1-cfd81de3742d"
      },
      "execution_count": 25,
      "outputs": [
        {
          "output_type": "stream",
          "name": "stdout",
          "text": [
            "After removing Oracle: {'Facebook', 'Google', 'Microsoft', 'Apple', 'IBM', 'Intel', 'Tesla', 'Amazon', 'Twitter', 'Adobe'}\n"
          ]
        }
      ]
    },
    {
      "cell_type": "markdown",
      "source": [],
      "metadata": {
        "id": "n1S5BMBCht2m"
      }
    },
    {
      "cell_type": "markdown",
      "source": [
        "5. Difference between remove and discard\n",
        "\n"
      ],
      "metadata": {
        "id": "VgAbgijAhvVi"
      }
    },
    {
      "cell_type": "code",
      "source": [
        "IT_companies.remove('Netflix')"
      ],
      "metadata": {
        "colab": {
          "base_uri": "https://localhost:8080/",
          "height": 144
        },
        "id": "fekLOemFh4vO",
        "outputId": "ca020344-8521-4a1f-d5c5-ade36a2894b3"
      },
      "execution_count": 26,
      "outputs": [
        {
          "output_type": "error",
          "ename": "KeyError",
          "evalue": "'Netflix'",
          "traceback": [
            "\u001b[0;31m---------------------------------------------------------------------------\u001b[0m",
            "\u001b[0;31mKeyError\u001b[0m                                  Traceback (most recent call last)",
            "\u001b[0;32m/tmp/ipython-input-26-1336197660.py\u001b[0m in \u001b[0;36m<cell line: 0>\u001b[0;34m()\u001b[0m\n\u001b[0;32m----> 1\u001b[0;31m \u001b[0mIT_companies\u001b[0m\u001b[0;34m.\u001b[0m\u001b[0mremove\u001b[0m\u001b[0;34m(\u001b[0m\u001b[0;34m'Netflix'\u001b[0m\u001b[0;34m)\u001b[0m\u001b[0;34m\u001b[0m\u001b[0;34m\u001b[0m\u001b[0m\n\u001b[0m",
            "\u001b[0;31mKeyError\u001b[0m: 'Netflix'"
          ]
        }
      ]
    },
    {
      "cell_type": "code",
      "source": [
        "# remove() raises an error if the element is not found\n"
      ],
      "metadata": {
        "id": "F0QjZ_OPiBw_"
      },
      "execution_count": 30,
      "outputs": []
    },
    {
      "cell_type": "code",
      "source": [
        "IT_companies.discard('Netflix')"
      ],
      "metadata": {
        "id": "mb6l49spiHSP"
      },
      "execution_count": 27,
      "outputs": []
    },
    {
      "cell_type": "code",
      "source": [
        "# discard() does NOT raise an error if the element is not found"
      ],
      "metadata": {
        "id": "f_9nAPJhiKuE"
      },
      "execution_count": 32,
      "outputs": []
    },
    {
      "cell_type": "markdown",
      "source": [
        "6. Join A and B (Union)"
      ],
      "metadata": {
        "id": "TDH68uWgiUMP"
      }
    },
    {
      "cell_type": "code",
      "source": [
        "print(\"A union B:\", A.union(B))"
      ],
      "metadata": {
        "colab": {
          "base_uri": "https://localhost:8080/"
        },
        "id": "vdA02ShRiU39",
        "outputId": "ccad1f54-0f32-4d0d-e100-40c9d8c2e789"
      },
      "execution_count": 28,
      "outputs": [
        {
          "output_type": "stream",
          "name": "stdout",
          "text": [
            "A union B: {19, 20, 22, 24, 25, 26, 27, 28}\n"
          ]
        }
      ]
    },
    {
      "cell_type": "markdown",
      "source": [
        "7. Find A intersection B\n"
      ],
      "metadata": {
        "id": "VNDypPAjid5L"
      }
    },
    {
      "cell_type": "code",
      "source": [
        "print(\"A intersection B:\", A.intersection(B))"
      ],
      "metadata": {
        "colab": {
          "base_uri": "https://localhost:8080/"
        },
        "id": "KrnBRRSrifB8",
        "outputId": "fe6a5ccf-4c23-4f50-81df-7c905c5bbc91"
      },
      "execution_count": 29,
      "outputs": [
        {
          "output_type": "stream",
          "name": "stdout",
          "text": [
            "A intersection B: {19, 20, 22, 24, 25, 26}\n"
          ]
        }
      ]
    },
    {
      "cell_type": "markdown",
      "source": [
        "8. Is A subset of B?"
      ],
      "metadata": {
        "id": "z0KoVMoQikZc"
      }
    },
    {
      "cell_type": "code",
      "source": [
        "print(\"Is A subset of B?\", A.issubset(B))"
      ],
      "metadata": {
        "colab": {
          "base_uri": "https://localhost:8080/"
        },
        "id": "DgUjBfGfim-s",
        "outputId": "ce282718-27db-4fd1-e6af-27f38e60060a"
      },
      "execution_count": 30,
      "outputs": [
        {
          "output_type": "stream",
          "name": "stdout",
          "text": [
            "Is A subset of B? True\n"
          ]
        }
      ]
    },
    {
      "cell_type": "markdown",
      "source": [
        "9. Are A and B disjoint sets?"
      ],
      "metadata": {
        "id": "Au1SNWEziwwl"
      }
    },
    {
      "cell_type": "code",
      "source": [
        "print(\"Are A and B disjoint?\", A.isdisjoint(B))"
      ],
      "metadata": {
        "colab": {
          "base_uri": "https://localhost:8080/"
        },
        "id": "m9DH1x8piyo4",
        "outputId": "2d2ac8ba-ce8a-49d9-b2cd-dc33b8ee1478"
      },
      "execution_count": 31,
      "outputs": [
        {
          "output_type": "stream",
          "name": "stdout",
          "text": [
            "Are A and B disjoint? False\n"
          ]
        }
      ]
    },
    {
      "cell_type": "markdown",
      "source": [
        "10. Join A with B and B with A (union both ways, same result)"
      ],
      "metadata": {
        "id": "T17UmYpPi3uN"
      }
    },
    {
      "cell_type": "code",
      "source": [
        "print(\"A | B:\", A | B)\n",
        "print(\"B | A:\", B | A)"
      ],
      "metadata": {
        "colab": {
          "base_uri": "https://localhost:8080/"
        },
        "id": "tALAPZc-i4XN",
        "outputId": "3212e6bd-7ce5-4646-bb30-538e7ec7524a"
      },
      "execution_count": 32,
      "outputs": [
        {
          "output_type": "stream",
          "name": "stdout",
          "text": [
            "A | B: {19, 20, 22, 24, 25, 26, 27, 28}\n",
            "B | A: {19, 20, 22, 24, 25, 26, 27, 28}\n"
          ]
        }
      ]
    },
    {
      "cell_type": "markdown",
      "source": [
        "11. Symmetric difference between A and B"
      ],
      "metadata": {
        "id": "qVgnDEtMjBOv"
      }
    },
    {
      "cell_type": "code",
      "source": [],
      "metadata": {
        "id": "orPTUeaPjBn1"
      },
      "execution_count": 32,
      "outputs": []
    },
    {
      "cell_type": "code",
      "source": [
        "print(\"Symmetric difference:\", A.symmetric_difference(B))\n"
      ],
      "metadata": {
        "colab": {
          "base_uri": "https://localhost:8080/"
        },
        "id": "8_PmxmAYjJ80",
        "outputId": "955d83e8-adf5-4a1f-c1a7-479bc131c918"
      },
      "execution_count": 40,
      "outputs": [
        {
          "output_type": "stream",
          "name": "stdout",
          "text": [
            "Symmetric difference: {27, 28}\n"
          ]
        }
      ]
    },
    {
      "cell_type": "markdown",
      "source": [
        "12. Delete the sets completely"
      ],
      "metadata": {
        "id": "QslYf5-TjQs1"
      }
    },
    {
      "cell_type": "code",
      "source": [
        "del A\n",
        "del B"
      ],
      "metadata": {
        "id": "wD4In8hjjRUy"
      },
      "execution_count": 33,
      "outputs": []
    },
    {
      "cell_type": "code",
      "source": [
        "print(A)\n",
        "print(B)"
      ],
      "metadata": {
        "colab": {
          "base_uri": "https://localhost:8080/",
          "height": 162
        },
        "id": "GPoitizpjTuf",
        "outputId": "dbd4301b-5522-47c5-c86a-a97eedeabb5f"
      },
      "execution_count": 34,
      "outputs": [
        {
          "output_type": "error",
          "ename": "NameError",
          "evalue": "name 'A' is not defined",
          "traceback": [
            "\u001b[0;31m---------------------------------------------------------------------------\u001b[0m",
            "\u001b[0;31mNameError\u001b[0m                                 Traceback (most recent call last)",
            "\u001b[0;32m/tmp/ipython-input-34-1599583493.py\u001b[0m in \u001b[0;36m<cell line: 0>\u001b[0;34m()\u001b[0m\n\u001b[0;32m----> 1\u001b[0;31m \u001b[0mprint\u001b[0m\u001b[0;34m(\u001b[0m\u001b[0mA\u001b[0m\u001b[0;34m)\u001b[0m\u001b[0;34m\u001b[0m\u001b[0;34m\u001b[0m\u001b[0m\n\u001b[0m\u001b[1;32m      2\u001b[0m \u001b[0mprint\u001b[0m\u001b[0;34m(\u001b[0m\u001b[0mB\u001b[0m\u001b[0;34m)\u001b[0m\u001b[0;34m\u001b[0m\u001b[0;34m\u001b[0m\u001b[0m\n",
            "\u001b[0;31mNameError\u001b[0m: name 'A' is not defined"
          ]
        }
      ]
    },
    {
      "cell_type": "code",
      "source": [
        "# del keyword in Python is used to remove a reference to an object. When del is used on a set, it removes the variable name that was pointing to that set object., It throws error"
      ],
      "metadata": {
        "id": "02rU-VJWjW8W"
      },
      "execution_count": 43,
      "outputs": []
    },
    {
      "cell_type": "markdown",
      "source": [
        "13. Convert age list to a set and compare lengths\n"
      ],
      "metadata": {
        "id": "ybpGju5IjxPY"
      }
    },
    {
      "cell_type": "code",
      "source": [
        "age_set = set(age)\n",
        "print(\"Length of age list:\", len(age))\n",
        "print(\"Length of age set:\", len(age_set))"
      ],
      "metadata": {
        "colab": {
          "base_uri": "https://localhost:8080/"
        },
        "id": "FGufMnXmj1W6",
        "outputId": "09c2d66f-1c71-400f-a51e-f7271aa190f7"
      },
      "execution_count": 35,
      "outputs": [
        {
          "output_type": "stream",
          "name": "stdout",
          "text": [
            "Length of age list: 8\n",
            "Length of age set: 5\n"
          ]
        }
      ]
    },
    {
      "cell_type": "code",
      "source": [
        "# difference is because set does not allow duplicate entry"
      ],
      "metadata": {
        "id": "-HWItG1oj5IH"
      },
      "execution_count": 45,
      "outputs": []
    },
    {
      "cell_type": "code",
      "source": [],
      "metadata": {
        "id": "PmMPSlEckHPc"
      },
      "execution_count": null,
      "outputs": []
    },
    {
      "cell_type": "markdown",
      "source": [
        "Video link"
      ],
      "metadata": {
        "id": "7-wdLyxdH0Xc"
      }
    },
    {
      "cell_type": "markdown",
      "source": [
        "https://drive.google.com/file/d/1M2KEp0bCE7Eg5jGv0GbyT1olO21V8wl-/view?usp=sharing"
      ],
      "metadata": {
        "id": "oZ-j2OihH7xq"
      }
    }
  ]
}