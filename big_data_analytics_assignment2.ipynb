{
  "nbformat": 4,
  "nbformat_minor": 0,
  "metadata": {
    "colab": {
      "provenance": [],
      "mount_file_id": "https://gist.github.com/jaiz23/33abf4959a9296b8997ea79dc43cf3e6#file-big_data_analytics_assignment2-ipynb",
      "authorship_tag": "ABX9TyMa/s/f1P3Mo076ru7dIoxZ",
      "include_colab_link": true
    },
    "kernelspec": {
      "name": "python3",
      "display_name": "Python 3"
    },
    "language_info": {
      "name": "python"
    }
  },
  "cells": [
    {
      "cell_type": "markdown",
      "metadata": {
        "id": "view-in-github",
        "colab_type": "text"
      },
      "source": [
        "<a href=\"https://colab.research.google.com/github/jaiz23/Big-Data-Analytics/blob/main/big_data_analytics_assignment2.ipynb\" target=\"_parent\"><img src=\"https://colab.research.google.com/assets/colab-badge.svg\" alt=\"Open In Colab\"/></a>"
      ]
    },
    {
      "cell_type": "markdown",
      "source": [
        "1. a) Explain the difference between Counter.count and self._count.**bold text**"
      ],
      "metadata": {
        "id": "zqKT754zHNPI"
      }
    },
    {
      "cell_type": "code",
      "source": [
        "# Counter.count is class variable or static variable.  It is shared between all the objects of the class. Where self.count is associated with each object of class."
      ],
      "metadata": {
        "id": "6p7jBT4RHOKP"
      },
      "execution_count": null,
      "outputs": []
    },
    {
      "cell_type": "code",
      "source": [
        "class Counter:\n",
        "    count = 0\n",
        "\n",
        "    def __init__(self):\n",
        "        self._count = 0\n",
        "\n",
        "    def increment(self):\n",
        "        Counter.count += 1\n",
        "        self._count += 1\n",
        "\n",
        "    def get_counts(self):\n",
        "        return f\"Instance count: {self._count}, class count: {Counter.count}\""
      ],
      "metadata": {
        "id": "gHOmvT6fH0JA"
      },
      "execution_count": null,
      "outputs": []
    },
    {
      "cell_type": "code",
      "source": [
        "a = Counter()\n",
        "b = Counter()\n",
        "a.increment()\n",
        "a.increment()\n",
        "b.increment()"
      ],
      "metadata": {
        "id": "4OLrEgKYH5Gd"
      },
      "execution_count": null,
      "outputs": []
    },
    {
      "cell_type": "code",
      "source": [
        "print(a.get_counts())\n",
        "print(b.get_counts())\n"
      ],
      "metadata": {
        "colab": {
          "base_uri": "https://localhost:8080/"
        },
        "id": "HK5fLKE3H_SX",
        "outputId": "965e1f80-d3b9-4221-a0d2-5903b55b6d2f"
      },
      "execution_count": null,
      "outputs": [
        {
          "output_type": "stream",
          "name": "stdout",
          "text": [
            "Instance count: 2, class count: 9\n",
            "Instance count: 1, class count: 9\n"
          ]
        }
      ]
    },
    {
      "cell_type": "code",
      "source": [],
      "metadata": {
        "id": "jvs-sknsIChH"
      },
      "execution_count": null,
      "outputs": []
    },
    {
      "cell_type": "markdown",
      "source": [
        "1.b What is the output of a.get_counts() and b.get_counts()?"
      ],
      "metadata": {
        "id": "g-7VgAGMIfru"
      }
    },
    {
      "cell_type": "code",
      "source": [
        "# The output of a.get_counts() will be 2, as a.increment() method is called two times, it increments two times\n",
        "# The output of b.get_counts() will be 1, as b.increment() method is called one time, it increments one time."
      ],
      "metadata": {
        "id": "WvOWTbv7Iit-"
      },
      "execution_count": null,
      "outputs": []
    },
    {
      "cell_type": "markdown",
      "source": [
        "How does the increment method affect both the class and instance variables"
      ],
      "metadata": {
        "id": "OA1KdZwWJGDN"
      }
    },
    {
      "cell_type": "code",
      "source": [
        "# Whenever the increment() method called on class objects it will increment the class variable Counter.count, In the example it was called on a object two times and b object one time. So, Counter.count() value becomes 3."
      ],
      "metadata": {
        "id": "e0v4Iq9iJJJ9"
      },
      "execution_count": null,
      "outputs": []
    },
    {
      "cell_type": "markdown",
      "source": [
        "2. Find and remove the bug from the code to obtain the given output."
      ],
      "metadata": {
        "id": "bZxi0-LeJs7p"
      }
    },
    {
      "cell_type": "code",
      "source": [
        "def sum_all(*args):\n",
        "    return sum(args)\n",
        "\n",
        "print(sum_all(1, 2, 3))\n",
        "print(sum_all(4, 5, 6, 7))"
      ],
      "metadata": {
        "colab": {
          "base_uri": "https://localhost:8080/"
        },
        "id": "we9mQQlkJwoj",
        "outputId": "9221a217-bc7f-4ef7-c330-00a482f94b03"
      },
      "execution_count": null,
      "outputs": [
        {
          "output_type": "stream",
          "name": "stdout",
          "text": [
            "6\n",
            "22\n"
          ]
        }
      ]
    },
    {
      "cell_type": "code",
      "source": [
        "# The error in the code is *args, *args in function definition is used to pass a variable no of arguments.\n",
        "# here it passes variable number of arguments to sum_all function and it pass to sum function which accepts and returns the sum of all numbers."
      ],
      "metadata": {
        "id": "f7Fr_FNnKA8Z"
      },
      "execution_count": null,
      "outputs": []
    },
    {
      "cell_type": "markdown",
      "source": [
        "3. Write a function called first_word that takes a list of character strings as input and returns the first\n",
        "element of the list in alphabetical order. For example, your function should work like this:"
      ],
      "metadata": {
        "id": "T8KIc8iLLG8K"
      }
    },
    {
      "cell_type": "code",
      "source": [
        "def first_word(word_list):\n",
        "    sorted_list = sorted(word_list)\n",
        "    return sorted_list[0]"
      ],
      "metadata": {
        "id": "S4PjVA5hLKLW"
      },
      "execution_count": null,
      "outputs": []
    },
    {
      "cell_type": "code",
      "source": [
        "students = ['Mary', 'Zelda', 'Jimmy', 'Jack', 'Bartholomew', 'Gertrude']"
      ],
      "metadata": {
        "id": "YohLXlQDLYPM"
      },
      "execution_count": null,
      "outputs": []
    },
    {
      "cell_type": "code",
      "source": [
        "print(first_word(students))"
      ],
      "metadata": {
        "colab": {
          "base_uri": "https://localhost:8080/"
        },
        "id": "w6sDlgxILa4g",
        "outputId": "60dca35c-fa77-4263-da37-6f529cf94118"
      },
      "execution_count": null,
      "outputs": [
        {
          "output_type": "stream",
          "name": "stdout",
          "text": [
            "Bartholomew\n"
          ]
        }
      ]
    },
    {
      "cell_type": "markdown",
      "source": [],
      "metadata": {
        "id": "O6oDXwhxLlCM"
      }
    },
    {
      "cell_type": "markdown",
      "source": [
        "4. Create a class Employee and then do the following"
      ],
      "metadata": {
        "id": "6AdxJs1lLmKx"
      }
    },
    {
      "cell_type": "code",
      "source": [
        "class Employee:\n",
        "    count = 0\n",
        "    salaries = []\n",
        "\n",
        "    def __init__(self, name, family, salary, department):\n",
        "        self.name = name\n",
        "        self.family = family\n",
        "        self.salary = salary\n",
        "        self.department = department\n",
        "        Employee.count += 1\n",
        "        Employee.salaries.append(salary)\n",
        "\n",
        "    def average_salary():\n",
        "        return sum(Employee.salaries) / Employee.count\n",
        "\n"
      ],
      "metadata": {
        "id": "_FVxTZFqL8IU"
      },
      "execution_count": 8,
      "outputs": []
    },
    {
      "cell_type": "code",
      "source": [
        "class FulltimeEmployee(Employee):\n",
        "    def __init__(self, name, family, salary, department):\n",
        "        super().__init__(name, family, salary, department)"
      ],
      "metadata": {
        "id": "KLpaxGroMRUH"
      },
      "execution_count": 2,
      "outputs": []
    },
    {
      "cell_type": "code",
      "source": [
        "emp1 = Employee(\"Jai\", \"Rayapureddy\", 50000, \"\")\n",
        "emp2 = Employee(\"Venkat\", \"Rayapureddy\", 60000, \"HR\")\n",
        "ft_emp = FulltimeEmployee(\"John\", \"Smith\", 70000, \"Finance\")"
      ],
      "metadata": {
        "id": "vaBT6HTaMr4E"
      },
      "execution_count": 9,
      "outputs": []
    },
    {
      "cell_type": "code",
      "source": [
        "print(\"Number of Employees:\", Employee.count)"
      ],
      "metadata": {
        "colab": {
          "base_uri": "https://localhost:8080/"
        },
        "id": "l2HHbQ9wNbRd",
        "outputId": "5a0886a9-8c03-43ef-8515-0206f8603f61"
      },
      "execution_count": 10,
      "outputs": [
        {
          "output_type": "stream",
          "name": "stdout",
          "text": [
            "Number of Employees: 3\n"
          ]
        }
      ]
    },
    {
      "cell_type": "code",
      "source": [
        "print(\"Average salary:\",Employee.average_salary())"
      ],
      "metadata": {
        "colab": {
          "base_uri": "https://localhost:8080/"
        },
        "id": "oqZiZ3q_Ngc7",
        "outputId": "6c85fdbf-9322-4853-8e7b-4bd1db2d5def"
      },
      "execution_count": 11,
      "outputs": [
        {
          "output_type": "stream",
          "name": "stdout",
          "text": [
            "Average salary: 60000.0\n"
          ]
        }
      ]
    },
    {
      "cell_type": "code",
      "source": [
        "print(\"FullTime Employee :\",ft_emp.name)"
      ],
      "metadata": {
        "colab": {
          "base_uri": "https://localhost:8080/"
        },
        "id": "GSJn0KxaNoER",
        "outputId": "9fd84972-5eeb-49a9-d217-bc5d09848eab"
      },
      "execution_count": 6,
      "outputs": [
        {
          "output_type": "stream",
          "name": "stdout",
          "text": [
            "FullTime Employee : John\n"
          ]
        }
      ]
    },
    {
      "cell_type": "code",
      "source": [],
      "metadata": {
        "id": "XOqFC_vgN2PA"
      },
      "execution_count": null,
      "outputs": []
    }
  ]
}