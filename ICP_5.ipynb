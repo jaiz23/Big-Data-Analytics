{
  "cells": [
    {
      "cell_type": "markdown",
      "metadata": {
        "id": "view-in-github",
        "colab_type": "text"
      },
      "source": [
        "<a href=\"https://colab.research.google.com/github/jaiz23/Big-Data-Analytics/blob/main/ICP_5.ipynb\" target=\"_parent\"><img src=\"https://colab.research.google.com/assets/colab-badge.svg\" alt=\"Open In Colab\"/></a>"
      ]
    },
    {
      "cell_type": "code",
      "source": [
        "from google.colab import drive\n",
        "drive.mount('/content/drive')"
      ],
      "metadata": {
        "colab": {
          "base_uri": "https://localhost:8080/"
        },
        "id": "RiQZd3brO7un",
        "outputId": "bc66d7ab-cf87-4f50-fc57-c41aaedd2228"
      },
      "execution_count": null,
      "outputs": [
        {
          "output_type": "stream",
          "name": "stdout",
          "text": [
            "Drive already mounted at /content/drive; to attempt to forcibly remount, call drive.mount(\"/content/drive\", force_remount=True).\n"
          ]
        }
      ]
    },
    {
      "cell_type": "code",
      "execution_count": null,
      "metadata": {
        "id": "nSc3IOaQNQu2",
        "colab": {
          "base_uri": "https://localhost:8080/"
        },
        "outputId": "cc0532e6-09c3-4cae-bee8-64bf09a23866"
      },
      "outputs": [
        {
          "output_type": "stream",
          "name": "stdout",
          "text": [
            "Best parameters found: {'classifier__C': 0.1, 'classifier__kernel': 'linear', 'pca__n_components': 3}\n",
            "Best cross-validation score: 0.96\n",
            "Test set score: 1.00\n"
          ]
        }
      ],
      "source": [
        "from sklearn.datasets import load_iris\n",
        "from sklearn.model_selection import GridSearchCV, train_test_split\n",
        "from sklearn.preprocessing import StandardScaler\n",
        "from sklearn.decomposition import PCA\n",
        "from sklearn.ensemble import RandomForestClassifier\n",
        "from sklearn.svm import SVC\n",
        "from sklearn.pipeline import Pipeline\n",
        "\n",
        "# 1. Load dataset\n",
        "X, y = load_iris(return_X_y=True)\n",
        "X_train, X_test, y_train, y_test = train_test_split(X, y, test_size=0.2, random_state=42)\n",
        "\n",
        "# 2. Create pipeline\n",
        "pipe = Pipeline([\n",
        "    ('scaler', StandardScaler()),\n",
        "    ('pca', PCA()),\n",
        "    ('classifier', SVC())\n",
        "])\n",
        "\n",
        "# 3. Define parameter grid\n",
        "param_grid = {\n",
        "    'pca__n_components': [2, 3],\n",
        "    'classifier__C': [0.1, 1, 10],\n",
        "    'classifier__kernel': ['linear', 'rbf']\n",
        "}\n",
        "\n",
        "# 4. GridSearchCV\n",
        "grid = GridSearchCV(pipe, param_grid)\n",
        "grid.fit(X_train, y_train)\n",
        "\n",
        "# 5. Results\n",
        "print(\"Best parameters found:\", grid.best_params_)\n",
        "print(\"Best cross-validation score: {:.2f}\".format(grid.best_score_))\n",
        "print(\"Test set score: {:.2f}\".format(grid.score(X_test, y_test)))\n"
      ]
    },
    {
      "cell_type": "markdown",
      "metadata": {
        "id": "tqJp7J-jNbu6"
      },
      "source": [
        "Check for 3 fold, 5 fold and 7 fold cross validation\n",
        "\n",
        "Replace classifier, SVC with RandomForestClassifier and LogisticRegression, Perceptron, knn .\n",
        "\n",
        "Update the param_grid accordingly (e.g., for RandomForestClassifier, use n_estimators, max_depth, etc.)\n",
        "\n",
        "Also replace Gridsearch with randomnsearch function.\n",
        "\n",
        "Relplace with with your own csv dataset using code below:"
      ]
    },
    {
      "cell_type": "code",
      "execution_count": null,
      "metadata": {
        "id": "QoIbgTrQKODc"
      },
      "outputs": [],
      "source": []
    },
    {
      "cell_type": "markdown",
      "source": [
        "**1. Implementing RandomForest With iris Data Set**"
      ],
      "metadata": {
        "id": "ifSyqN9bLBmN"
      }
    },
    {
      "cell_type": "code",
      "execution_count": null,
      "metadata": {
        "colab": {
          "base_uri": "https://localhost:8080/"
        },
        "id": "nE5Y9e71KODc",
        "outputId": "7f6a0ab4-53c3-4645-ebdb-be29e2ff502e"
      },
      "outputs": [
        {
          "output_type": "stream",
          "name": "stdout",
          "text": [
            "\n",
            "--- RandomForest (CV=3) ---\n",
            "Best Params: {'pca__n_components': 3, 'classifier__n_estimators': 100, 'classifier__min_samples_split': 5, 'classifier__max_depth': 10}\n",
            "Best CV Score: 0.92\n",
            "Test set score: 1.00\n",
            "\n",
            "--- RandomForest (CV=5) ---\n",
            "Best Params: {'pca__n_components': 3, 'classifier__n_estimators': 100, 'classifier__min_samples_split': 5, 'classifier__max_depth': 10}\n",
            "Best CV Score: 0.93\n",
            "Test set score: 1.00\n",
            "\n",
            "--- RandomForest (CV=7) ---\n",
            "Best Params: {'pca__n_components': 3, 'classifier__n_estimators': 100, 'classifier__min_samples_split': 5, 'classifier__max_depth': 10}\n",
            "Best CV Score: 0.92\n",
            "Test set score: 1.00\n"
          ]
        }
      ],
      "source": [
        "from sklearn.datasets import load_iris\n",
        "from sklearn.model_selection import RandomizedSearchCV, train_test_split\n",
        "from sklearn.preprocessing import StandardScaler\n",
        "from sklearn.decomposition import PCA\n",
        "from sklearn.pipeline import Pipeline\n",
        "from sklearn.ensemble import RandomForestClassifier\n",
        "from sklearn.metrics import accuracy_score\n",
        "\n",
        "# Load dataset\n",
        "X, y = load_iris(return_X_y=True)\n",
        "X_train, X_test, y_train, y_test = train_test_split(X, y, test_size=0.2, random_state=42)\n",
        "\n",
        "# Pipeline\n",
        "pipe = Pipeline([\n",
        "    ('scaler', StandardScaler()),\n",
        "    ('pca', PCA()),\n",
        "    ('classifier', RandomForestClassifier(random_state=42))\n",
        "])\n",
        "\n",
        "# Hyperparameter distribution\n",
        "param_dist = {\n",
        "    'pca__n_components': [2, 3],\n",
        "    'classifier__n_estimators': [10, 50, 100],\n",
        "    'classifier__max_depth': [None, 5, 10],\n",
        "    'classifier__min_samples_split': [2, 5]\n",
        "}\n",
        "\n",
        "# Try 3, 5, 7 fold CV\n",
        "for cv in [3, 5, 7]:\n",
        "    print(f\"\\n--- RandomForest (CV={cv}) ---\")\n",
        "    search = RandomizedSearchCV(pipe, param_distributions=param_dist, n_iter=5, cv=cv, random_state=42)\n",
        "    search.fit(X_train, y_train)\n",
        "    print(\"Best Params:\", search.best_params_)\n",
        "    print(\"Best CV Score: {:.2f}\".format(search.best_score_))\n",
        "    print(\"Test set score: {:.2f}\".format(search.score(X_test, y_test)))"
      ]
    },
    {
      "cell_type": "markdown",
      "source": [
        "**2. Implementing RandomForest With iris Data Set**"
      ],
      "metadata": {
        "id": "_eoXF8T6LQSF"
      }
    },
    {
      "cell_type": "code",
      "execution_count": null,
      "metadata": {
        "colab": {
          "base_uri": "https://localhost:8080/"
        },
        "id": "-bzKxRkOKODd",
        "outputId": "550e5830-ea3d-40c4-bfb9-8fbf50a285b2"
      },
      "outputs": [
        {
          "output_type": "stream",
          "name": "stdout",
          "text": [
            "\n",
            "--- LogisticRegression (CV=3) ---\n",
            "Best Params: {'pca__n_components': 3, 'classifier__solver': 'lbfgs', 'classifier__penalty': 'l2', 'classifier__C': 10}\n",
            "Best CV Score: 0.96\n",
            "Test set score: 0.97\n",
            "\n",
            "--- LogisticRegression (CV=5) ---\n",
            "Best Params: {'pca__n_components': 3, 'classifier__solver': 'lbfgs', 'classifier__penalty': 'l2', 'classifier__C': 10}\n",
            "Best CV Score: 0.95\n",
            "Test set score: 0.97\n",
            "\n",
            "--- LogisticRegression (CV=7) ---\n",
            "Best Params: {'pca__n_components': 3, 'classifier__solver': 'lbfgs', 'classifier__penalty': 'l2', 'classifier__C': 10}\n",
            "Best CV Score: 0.95\n",
            "Test set score: 0.97\n"
          ]
        }
      ],
      "source": [
        "from sklearn.linear_model import LogisticRegression\n",
        "\n",
        "# Reuse X_train, y_train from above\n",
        "X, y = load_iris(return_X_y=True)\n",
        "X_train, X_test, y_train, y_test = train_test_split(X, y, test_size=0.2, random_state=42)\n",
        "\n",
        "pipe = Pipeline([\n",
        "    ('scaler', StandardScaler()),\n",
        "    ('pca', PCA()),\n",
        "    ('classifier', LogisticRegression(max_iter=1000, random_state=42))\n",
        "])\n",
        "\n",
        "param_dist = {\n",
        "    'pca__n_components': [2, 3],\n",
        "    'classifier__C': [0.01, 0.1, 1, 10],\n",
        "    'classifier__penalty': ['l2'],\n",
        "    'classifier__solver': ['lbfgs', 'saga']\n",
        "}\n",
        "\n",
        "for cv in [3, 5, 7]:\n",
        "    print(f\"\\n--- LogisticRegression (CV={cv}) ---\")\n",
        "    search = RandomizedSearchCV(pipe, param_distributions=param_dist, n_iter=5, cv=cv, random_state=42)\n",
        "    search.fit(X_train, y_train)\n",
        "    print(\"Best Params:\", search.best_params_)\n",
        "    print(\"Best CV Score: {:.2f}\".format(search.best_score_))\n",
        "    print(\"Test set score: {:.2f}\".format(search.score(X_test, y_test)))"
      ]
    },
    {
      "cell_type": "markdown",
      "source": [
        "**3. Implementing Perceptron With iris Data Set**\n"
      ],
      "metadata": {
        "id": "kIjNA55sLgGQ"
      }
    },
    {
      "cell_type": "code",
      "execution_count": null,
      "metadata": {
        "colab": {
          "base_uri": "https://localhost:8080/"
        },
        "id": "Qx-kGkPjKODd",
        "outputId": "6fa7d765-5247-45a0-da70-1093622cec3b"
      },
      "outputs": [
        {
          "output_type": "stream",
          "name": "stdout",
          "text": [
            "\n",
            "--- Perceptron (CV=3) ---\n",
            "Best Params: {'pca__n_components': 3, 'classifier__penalty': None, 'classifier__max_iter': 1000, 'classifier__alpha': 0.01}\n",
            "Best CV Score: 0.85\n",
            "Test set score: 0.93\n",
            "\n",
            "--- Perceptron (CV=5) ---\n",
            "Best Params: {'pca__n_components': 3, 'classifier__penalty': None, 'classifier__max_iter': 1000, 'classifier__alpha': 0.01}\n",
            "Best CV Score: 0.88\n",
            "Test set score: 0.93\n",
            "\n",
            "--- Perceptron (CV=7) ---\n",
            "Best Params: {'pca__n_components': 3, 'classifier__penalty': 'l2', 'classifier__max_iter': 500, 'classifier__alpha': 0.001}\n",
            "Best CV Score: 0.89\n",
            "Test set score: 0.80\n"
          ]
        }
      ],
      "source": [
        "from sklearn.linear_model import Perceptron\n",
        "\n",
        "X, y = load_iris(return_X_y=True)\n",
        "X_train, X_test, y_train, y_test = train_test_split(X, y, test_size=0.2, random_state=42)\n",
        "\n",
        "pipe = Pipeline([\n",
        "    ('scaler', StandardScaler()),\n",
        "    ('pca', PCA()),\n",
        "    ('classifier', Perceptron(random_state=42))\n",
        "])\n",
        "\n",
        "param_dist = {\n",
        "    'pca__n_components': [2, 3],\n",
        "    'classifier__penalty': ['l2', 'l1', None],\n",
        "    'classifier__alpha': [0.0001, 0.001, 0.01],\n",
        "    'classifier__max_iter': [500, 1000]\n",
        "}\n",
        "\n",
        "for cv in [3, 5, 7]:\n",
        "    print(f\"\\n--- Perceptron (CV={cv}) ---\")\n",
        "    search = RandomizedSearchCV(pipe, param_distributions=param_dist, n_iter=5, cv=cv, random_state=42)\n",
        "    search.fit(X_train, y_train)\n",
        "    print(\"Best Params:\", search.best_params_)\n",
        "    print(\"Best CV Score: {:.2f}\".format(search.best_score_))\n",
        "    print(\"Test set score: {:.2f}\".format(search.score(X_test, y_test)))"
      ]
    },
    {
      "cell_type": "markdown",
      "source": [
        "**4.Implementing KNeighborsClassifier With iris Data Set**"
      ],
      "metadata": {
        "id": "W_Use7SKLlV6"
      }
    },
    {
      "cell_type": "code",
      "execution_count": null,
      "metadata": {
        "colab": {
          "base_uri": "https://localhost:8080/"
        },
        "id": "zWE_Vi1eKODd",
        "outputId": "598fabdd-2395-4d8a-c418-a88c0e942cc8"
      },
      "outputs": [
        {
          "output_type": "stream",
          "name": "stdout",
          "text": [
            "\n",
            "--- KNN (CV=3) ---\n",
            "Best Params: {'pca__n_components': 3, 'classifier__weights': 'distance', 'classifier__p': 1, 'classifier__n_neighbors': 5}\n",
            "Best CV Score: 0.96\n",
            "Test set score: 0.97\n",
            "\n",
            "--- KNN (CV=5) ---\n",
            "Best Params: {'pca__n_components': 3, 'classifier__weights': 'distance', 'classifier__p': 1, 'classifier__n_neighbors': 5}\n",
            "Best CV Score: 0.95\n",
            "Test set score: 0.97\n",
            "\n",
            "--- KNN (CV=7) ---\n",
            "Best Params: {'pca__n_components': 3, 'classifier__weights': 'distance', 'classifier__p': 1, 'classifier__n_neighbors': 5}\n",
            "Best CV Score: 0.95\n",
            "Test set score: 0.97\n"
          ]
        }
      ],
      "source": [
        "from sklearn.neighbors import KNeighborsClassifier\n",
        "\n",
        "X, y = load_iris(return_X_y=True)\n",
        "X_train, X_test, y_train, y_test = train_test_split(X, y, test_size=0.2, random_state=42)\n",
        "\n",
        "pipe = Pipeline([\n",
        "    ('scaler', StandardScaler()),\n",
        "    ('pca', PCA()),\n",
        "    ('classifier', KNeighborsClassifier())\n",
        "])\n",
        "\n",
        "param_dist = {\n",
        "    'pca__n_components': [2, 3],\n",
        "    'classifier__n_neighbors': [3, 5, 7],\n",
        "    'classifier__weights': ['uniform', 'distance'],\n",
        "    'classifier__p': [1, 2]  # 1 = Manhattan, 2 = Euclidean\n",
        "}\n",
        "\n",
        "for cv in [3, 5, 7]:\n",
        "    print(f\"\\n--- KNN (CV={cv}) ---\")\n",
        "    search = RandomizedSearchCV(pipe, param_distributions=param_dist, n_iter=5, cv=cv, random_state=42)\n",
        "    search.fit(X_train, y_train)\n",
        "    print(\"Best Params:\", search.best_params_)\n",
        "    print(\"Best CV Score: {:.2f}\".format(search.best_score_))\n",
        "    print(\"Test set score: {:.2f}\".format(search.score(X_test, y_test)))"
      ]
    },
    {
      "cell_type": "markdown",
      "source": [],
      "metadata": {
        "id": "UnoErSFbL9dc"
      }
    },
    {
      "cell_type": "markdown",
      "source": [
        "\n",
        "\n",
        " **Implementing Heart Stroke Prediction with RandomForestClassifier and LogisticRegression, Perceptron, knn**\n",
        "\n",
        "\n",
        "\n"
      ],
      "metadata": {
        "id": "aFFxHg_CMC6K"
      }
    },
    {
      "cell_type": "code",
      "execution_count": null,
      "metadata": {
        "id": "aUipqQf8Pcao"
      },
      "outputs": [],
      "source": [
        "import pandas as pd\n",
        "\n",
        "data = pd.read_csv(\"/content/drive/MyDrive/Colab Notebooks/data/healthcare-dataset-stroke-data.csv\")\n",
        "X = data.drop(\"stroke\", axis=1)\n",
        "y = data[\"stroke\"]\n"
      ]
    },
    {
      "cell_type": "code",
      "execution_count": null,
      "metadata": {
        "colab": {
          "base_uri": "https://localhost:8080/",
          "height": 513
        },
        "id": "dmL2t79bKODe",
        "outputId": "249e18a9-a853-4d42-d075-e974a9f073df"
      },
      "outputs": [
        {
          "output_type": "execute_result",
          "data": {
            "text/plain": [
              "         id  gender   age  hypertension  heart_disease ever_married  \\\n",
              "0      9046    Male  67.0             0              1          Yes   \n",
              "1     51676  Female  61.0             0              0          Yes   \n",
              "2     31112    Male  80.0             0              1          Yes   \n",
              "3     60182  Female  49.0             0              0          Yes   \n",
              "4      1665  Female  79.0             1              0          Yes   \n",
              "...     ...     ...   ...           ...            ...          ...   \n",
              "5105  18234  Female  80.0             1              0          Yes   \n",
              "5106  44873  Female  81.0             0              0          Yes   \n",
              "5107  19723  Female  35.0             0              0          Yes   \n",
              "5108  37544    Male  51.0             0              0          Yes   \n",
              "5109  44679  Female  44.0             0              0          Yes   \n",
              "\n",
              "          work_type Residence_type  avg_glucose_level   bmi   smoking_status  \n",
              "0           Private          Urban             228.69  36.6  formerly smoked  \n",
              "1     Self-employed          Rural             202.21   NaN     never smoked  \n",
              "2           Private          Rural             105.92  32.5     never smoked  \n",
              "3           Private          Urban             171.23  34.4           smokes  \n",
              "4     Self-employed          Rural             174.12  24.0     never smoked  \n",
              "...             ...            ...                ...   ...              ...  \n",
              "5105        Private          Urban              83.75   NaN     never smoked  \n",
              "5106  Self-employed          Urban             125.20  40.0     never smoked  \n",
              "5107  Self-employed          Rural              82.99  30.6     never smoked  \n",
              "5108        Private          Rural             166.29  25.6  formerly smoked  \n",
              "5109       Govt_job          Urban              85.28  26.2          Unknown  \n",
              "\n",
              "[5110 rows x 11 columns]"
            ],
            "text/html": [
              "\n",
              "  <div id=\"df-2c0fa1a3-7dc2-474a-9521-6334b56bb926\" class=\"colab-df-container\">\n",
              "    <div>\n",
              "<style scoped>\n",
              "    .dataframe tbody tr th:only-of-type {\n",
              "        vertical-align: middle;\n",
              "    }\n",
              "\n",
              "    .dataframe tbody tr th {\n",
              "        vertical-align: top;\n",
              "    }\n",
              "\n",
              "    .dataframe thead th {\n",
              "        text-align: right;\n",
              "    }\n",
              "</style>\n",
              "<table border=\"1\" class=\"dataframe\">\n",
              "  <thead>\n",
              "    <tr style=\"text-align: right;\">\n",
              "      <th></th>\n",
              "      <th>id</th>\n",
              "      <th>gender</th>\n",
              "      <th>age</th>\n",
              "      <th>hypertension</th>\n",
              "      <th>heart_disease</th>\n",
              "      <th>ever_married</th>\n",
              "      <th>work_type</th>\n",
              "      <th>Residence_type</th>\n",
              "      <th>avg_glucose_level</th>\n",
              "      <th>bmi</th>\n",
              "      <th>smoking_status</th>\n",
              "    </tr>\n",
              "  </thead>\n",
              "  <tbody>\n",
              "    <tr>\n",
              "      <th>0</th>\n",
              "      <td>9046</td>\n",
              "      <td>Male</td>\n",
              "      <td>67.0</td>\n",
              "      <td>0</td>\n",
              "      <td>1</td>\n",
              "      <td>Yes</td>\n",
              "      <td>Private</td>\n",
              "      <td>Urban</td>\n",
              "      <td>228.69</td>\n",
              "      <td>36.6</td>\n",
              "      <td>formerly smoked</td>\n",
              "    </tr>\n",
              "    <tr>\n",
              "      <th>1</th>\n",
              "      <td>51676</td>\n",
              "      <td>Female</td>\n",
              "      <td>61.0</td>\n",
              "      <td>0</td>\n",
              "      <td>0</td>\n",
              "      <td>Yes</td>\n",
              "      <td>Self-employed</td>\n",
              "      <td>Rural</td>\n",
              "      <td>202.21</td>\n",
              "      <td>NaN</td>\n",
              "      <td>never smoked</td>\n",
              "    </tr>\n",
              "    <tr>\n",
              "      <th>2</th>\n",
              "      <td>31112</td>\n",
              "      <td>Male</td>\n",
              "      <td>80.0</td>\n",
              "      <td>0</td>\n",
              "      <td>1</td>\n",
              "      <td>Yes</td>\n",
              "      <td>Private</td>\n",
              "      <td>Rural</td>\n",
              "      <td>105.92</td>\n",
              "      <td>32.5</td>\n",
              "      <td>never smoked</td>\n",
              "    </tr>\n",
              "    <tr>\n",
              "      <th>3</th>\n",
              "      <td>60182</td>\n",
              "      <td>Female</td>\n",
              "      <td>49.0</td>\n",
              "      <td>0</td>\n",
              "      <td>0</td>\n",
              "      <td>Yes</td>\n",
              "      <td>Private</td>\n",
              "      <td>Urban</td>\n",
              "      <td>171.23</td>\n",
              "      <td>34.4</td>\n",
              "      <td>smokes</td>\n",
              "    </tr>\n",
              "    <tr>\n",
              "      <th>4</th>\n",
              "      <td>1665</td>\n",
              "      <td>Female</td>\n",
              "      <td>79.0</td>\n",
              "      <td>1</td>\n",
              "      <td>0</td>\n",
              "      <td>Yes</td>\n",
              "      <td>Self-employed</td>\n",
              "      <td>Rural</td>\n",
              "      <td>174.12</td>\n",
              "      <td>24.0</td>\n",
              "      <td>never smoked</td>\n",
              "    </tr>\n",
              "    <tr>\n",
              "      <th>...</th>\n",
              "      <td>...</td>\n",
              "      <td>...</td>\n",
              "      <td>...</td>\n",
              "      <td>...</td>\n",
              "      <td>...</td>\n",
              "      <td>...</td>\n",
              "      <td>...</td>\n",
              "      <td>...</td>\n",
              "      <td>...</td>\n",
              "      <td>...</td>\n",
              "      <td>...</td>\n",
              "    </tr>\n",
              "    <tr>\n",
              "      <th>5105</th>\n",
              "      <td>18234</td>\n",
              "      <td>Female</td>\n",
              "      <td>80.0</td>\n",
              "      <td>1</td>\n",
              "      <td>0</td>\n",
              "      <td>Yes</td>\n",
              "      <td>Private</td>\n",
              "      <td>Urban</td>\n",
              "      <td>83.75</td>\n",
              "      <td>NaN</td>\n",
              "      <td>never smoked</td>\n",
              "    </tr>\n",
              "    <tr>\n",
              "      <th>5106</th>\n",
              "      <td>44873</td>\n",
              "      <td>Female</td>\n",
              "      <td>81.0</td>\n",
              "      <td>0</td>\n",
              "      <td>0</td>\n",
              "      <td>Yes</td>\n",
              "      <td>Self-employed</td>\n",
              "      <td>Urban</td>\n",
              "      <td>125.20</td>\n",
              "      <td>40.0</td>\n",
              "      <td>never smoked</td>\n",
              "    </tr>\n",
              "    <tr>\n",
              "      <th>5107</th>\n",
              "      <td>19723</td>\n",
              "      <td>Female</td>\n",
              "      <td>35.0</td>\n",
              "      <td>0</td>\n",
              "      <td>0</td>\n",
              "      <td>Yes</td>\n",
              "      <td>Self-employed</td>\n",
              "      <td>Rural</td>\n",
              "      <td>82.99</td>\n",
              "      <td>30.6</td>\n",
              "      <td>never smoked</td>\n",
              "    </tr>\n",
              "    <tr>\n",
              "      <th>5108</th>\n",
              "      <td>37544</td>\n",
              "      <td>Male</td>\n",
              "      <td>51.0</td>\n",
              "      <td>0</td>\n",
              "      <td>0</td>\n",
              "      <td>Yes</td>\n",
              "      <td>Private</td>\n",
              "      <td>Rural</td>\n",
              "      <td>166.29</td>\n",
              "      <td>25.6</td>\n",
              "      <td>formerly smoked</td>\n",
              "    </tr>\n",
              "    <tr>\n",
              "      <th>5109</th>\n",
              "      <td>44679</td>\n",
              "      <td>Female</td>\n",
              "      <td>44.0</td>\n",
              "      <td>0</td>\n",
              "      <td>0</td>\n",
              "      <td>Yes</td>\n",
              "      <td>Govt_job</td>\n",
              "      <td>Urban</td>\n",
              "      <td>85.28</td>\n",
              "      <td>26.2</td>\n",
              "      <td>Unknown</td>\n",
              "    </tr>\n",
              "  </tbody>\n",
              "</table>\n",
              "<p>5110 rows × 11 columns</p>\n",
              "</div>\n",
              "    <div class=\"colab-df-buttons\">\n",
              "\n",
              "  <div class=\"colab-df-container\">\n",
              "    <button class=\"colab-df-convert\" onclick=\"convertToInteractive('df-2c0fa1a3-7dc2-474a-9521-6334b56bb926')\"\n",
              "            title=\"Convert this dataframe to an interactive table.\"\n",
              "            style=\"display:none;\">\n",
              "\n",
              "  <svg xmlns=\"http://www.w3.org/2000/svg\" height=\"24px\" viewBox=\"0 -960 960 960\">\n",
              "    <path d=\"M120-120v-720h720v720H120Zm60-500h600v-160H180v160Zm220 220h160v-160H400v160Zm0 220h160v-160H400v160ZM180-400h160v-160H180v160Zm440 0h160v-160H620v160ZM180-180h160v-160H180v160Zm440 0h160v-160H620v160Z\"/>\n",
              "  </svg>\n",
              "    </button>\n",
              "\n",
              "  <style>\n",
              "    .colab-df-container {\n",
              "      display:flex;\n",
              "      gap: 12px;\n",
              "    }\n",
              "\n",
              "    .colab-df-convert {\n",
              "      background-color: #E8F0FE;\n",
              "      border: none;\n",
              "      border-radius: 50%;\n",
              "      cursor: pointer;\n",
              "      display: none;\n",
              "      fill: #1967D2;\n",
              "      height: 32px;\n",
              "      padding: 0 0 0 0;\n",
              "      width: 32px;\n",
              "    }\n",
              "\n",
              "    .colab-df-convert:hover {\n",
              "      background-color: #E2EBFA;\n",
              "      box-shadow: 0px 1px 2px rgba(60, 64, 67, 0.3), 0px 1px 3px 1px rgba(60, 64, 67, 0.15);\n",
              "      fill: #174EA6;\n",
              "    }\n",
              "\n",
              "    .colab-df-buttons div {\n",
              "      margin-bottom: 4px;\n",
              "    }\n",
              "\n",
              "    [theme=dark] .colab-df-convert {\n",
              "      background-color: #3B4455;\n",
              "      fill: #D2E3FC;\n",
              "    }\n",
              "\n",
              "    [theme=dark] .colab-df-convert:hover {\n",
              "      background-color: #434B5C;\n",
              "      box-shadow: 0px 1px 3px 1px rgba(0, 0, 0, 0.15);\n",
              "      filter: drop-shadow(0px 1px 2px rgba(0, 0, 0, 0.3));\n",
              "      fill: #FFFFFF;\n",
              "    }\n",
              "  </style>\n",
              "\n",
              "    <script>\n",
              "      const buttonEl =\n",
              "        document.querySelector('#df-2c0fa1a3-7dc2-474a-9521-6334b56bb926 button.colab-df-convert');\n",
              "      buttonEl.style.display =\n",
              "        google.colab.kernel.accessAllowed ? 'block' : 'none';\n",
              "\n",
              "      async function convertToInteractive(key) {\n",
              "        const element = document.querySelector('#df-2c0fa1a3-7dc2-474a-9521-6334b56bb926');\n",
              "        const dataTable =\n",
              "          await google.colab.kernel.invokeFunction('convertToInteractive',\n",
              "                                                    [key], {});\n",
              "        if (!dataTable) return;\n",
              "\n",
              "        const docLinkHtml = 'Like what you see? Visit the ' +\n",
              "          '<a target=\"_blank\" href=https://colab.research.google.com/notebooks/data_table.ipynb>data table notebook</a>'\n",
              "          + ' to learn more about interactive tables.';\n",
              "        element.innerHTML = '';\n",
              "        dataTable['output_type'] = 'display_data';\n",
              "        await google.colab.output.renderOutput(dataTable, element);\n",
              "        const docLink = document.createElement('div');\n",
              "        docLink.innerHTML = docLinkHtml;\n",
              "        element.appendChild(docLink);\n",
              "      }\n",
              "    </script>\n",
              "  </div>\n",
              "\n",
              "\n",
              "    <div id=\"df-10d0044b-2152-4fed-b93e-f2a3fd280c08\">\n",
              "      <button class=\"colab-df-quickchart\" onclick=\"quickchart('df-10d0044b-2152-4fed-b93e-f2a3fd280c08')\"\n",
              "                title=\"Suggest charts\"\n",
              "                style=\"display:none;\">\n",
              "\n",
              "<svg xmlns=\"http://www.w3.org/2000/svg\" height=\"24px\"viewBox=\"0 0 24 24\"\n",
              "     width=\"24px\">\n",
              "    <g>\n",
              "        <path d=\"M19 3H5c-1.1 0-2 .9-2 2v14c0 1.1.9 2 2 2h14c1.1 0 2-.9 2-2V5c0-1.1-.9-2-2-2zM9 17H7v-7h2v7zm4 0h-2V7h2v10zm4 0h-2v-4h2v4z\"/>\n",
              "    </g>\n",
              "</svg>\n",
              "      </button>\n",
              "\n",
              "<style>\n",
              "  .colab-df-quickchart {\n",
              "      --bg-color: #E8F0FE;\n",
              "      --fill-color: #1967D2;\n",
              "      --hover-bg-color: #E2EBFA;\n",
              "      --hover-fill-color: #174EA6;\n",
              "      --disabled-fill-color: #AAA;\n",
              "      --disabled-bg-color: #DDD;\n",
              "  }\n",
              "\n",
              "  [theme=dark] .colab-df-quickchart {\n",
              "      --bg-color: #3B4455;\n",
              "      --fill-color: #D2E3FC;\n",
              "      --hover-bg-color: #434B5C;\n",
              "      --hover-fill-color: #FFFFFF;\n",
              "      --disabled-bg-color: #3B4455;\n",
              "      --disabled-fill-color: #666;\n",
              "  }\n",
              "\n",
              "  .colab-df-quickchart {\n",
              "    background-color: var(--bg-color);\n",
              "    border: none;\n",
              "    border-radius: 50%;\n",
              "    cursor: pointer;\n",
              "    display: none;\n",
              "    fill: var(--fill-color);\n",
              "    height: 32px;\n",
              "    padding: 0;\n",
              "    width: 32px;\n",
              "  }\n",
              "\n",
              "  .colab-df-quickchart:hover {\n",
              "    background-color: var(--hover-bg-color);\n",
              "    box-shadow: 0 1px 2px rgba(60, 64, 67, 0.3), 0 1px 3px 1px rgba(60, 64, 67, 0.15);\n",
              "    fill: var(--button-hover-fill-color);\n",
              "  }\n",
              "\n",
              "  .colab-df-quickchart-complete:disabled,\n",
              "  .colab-df-quickchart-complete:disabled:hover {\n",
              "    background-color: var(--disabled-bg-color);\n",
              "    fill: var(--disabled-fill-color);\n",
              "    box-shadow: none;\n",
              "  }\n",
              "\n",
              "  .colab-df-spinner {\n",
              "    border: 2px solid var(--fill-color);\n",
              "    border-color: transparent;\n",
              "    border-bottom-color: var(--fill-color);\n",
              "    animation:\n",
              "      spin 1s steps(1) infinite;\n",
              "  }\n",
              "\n",
              "  @keyframes spin {\n",
              "    0% {\n",
              "      border-color: transparent;\n",
              "      border-bottom-color: var(--fill-color);\n",
              "      border-left-color: var(--fill-color);\n",
              "    }\n",
              "    20% {\n",
              "      border-color: transparent;\n",
              "      border-left-color: var(--fill-color);\n",
              "      border-top-color: var(--fill-color);\n",
              "    }\n",
              "    30% {\n",
              "      border-color: transparent;\n",
              "      border-left-color: var(--fill-color);\n",
              "      border-top-color: var(--fill-color);\n",
              "      border-right-color: var(--fill-color);\n",
              "    }\n",
              "    40% {\n",
              "      border-color: transparent;\n",
              "      border-right-color: var(--fill-color);\n",
              "      border-top-color: var(--fill-color);\n",
              "    }\n",
              "    60% {\n",
              "      border-color: transparent;\n",
              "      border-right-color: var(--fill-color);\n",
              "    }\n",
              "    80% {\n",
              "      border-color: transparent;\n",
              "      border-right-color: var(--fill-color);\n",
              "      border-bottom-color: var(--fill-color);\n",
              "    }\n",
              "    90% {\n",
              "      border-color: transparent;\n",
              "      border-bottom-color: var(--fill-color);\n",
              "    }\n",
              "  }\n",
              "</style>\n",
              "\n",
              "      <script>\n",
              "        async function quickchart(key) {\n",
              "          const quickchartButtonEl =\n",
              "            document.querySelector('#' + key + ' button');\n",
              "          quickchartButtonEl.disabled = true;  // To prevent multiple clicks.\n",
              "          quickchartButtonEl.classList.add('colab-df-spinner');\n",
              "          try {\n",
              "            const charts = await google.colab.kernel.invokeFunction(\n",
              "                'suggestCharts', [key], {});\n",
              "          } catch (error) {\n",
              "            console.error('Error during call to suggestCharts:', error);\n",
              "          }\n",
              "          quickchartButtonEl.classList.remove('colab-df-spinner');\n",
              "          quickchartButtonEl.classList.add('colab-df-quickchart-complete');\n",
              "        }\n",
              "        (() => {\n",
              "          let quickchartButtonEl =\n",
              "            document.querySelector('#df-10d0044b-2152-4fed-b93e-f2a3fd280c08 button');\n",
              "          quickchartButtonEl.style.display =\n",
              "            google.colab.kernel.accessAllowed ? 'block' : 'none';\n",
              "        })();\n",
              "      </script>\n",
              "    </div>\n",
              "\n",
              "  <div id=\"id_ba6a85c3-5edd-4852-a5b4-6b7eb28129b7\">\n",
              "    <style>\n",
              "      .colab-df-generate {\n",
              "        background-color: #E8F0FE;\n",
              "        border: none;\n",
              "        border-radius: 50%;\n",
              "        cursor: pointer;\n",
              "        display: none;\n",
              "        fill: #1967D2;\n",
              "        height: 32px;\n",
              "        padding: 0 0 0 0;\n",
              "        width: 32px;\n",
              "      }\n",
              "\n",
              "      .colab-df-generate:hover {\n",
              "        background-color: #E2EBFA;\n",
              "        box-shadow: 0px 1px 2px rgba(60, 64, 67, 0.3), 0px 1px 3px 1px rgba(60, 64, 67, 0.15);\n",
              "        fill: #174EA6;\n",
              "      }\n",
              "\n",
              "      [theme=dark] .colab-df-generate {\n",
              "        background-color: #3B4455;\n",
              "        fill: #D2E3FC;\n",
              "      }\n",
              "\n",
              "      [theme=dark] .colab-df-generate:hover {\n",
              "        background-color: #434B5C;\n",
              "        box-shadow: 0px 1px 3px 1px rgba(0, 0, 0, 0.15);\n",
              "        filter: drop-shadow(0px 1px 2px rgba(0, 0, 0, 0.3));\n",
              "        fill: #FFFFFF;\n",
              "      }\n",
              "    </style>\n",
              "    <button class=\"colab-df-generate\" onclick=\"generateWithVariable('X')\"\n",
              "            title=\"Generate code using this dataframe.\"\n",
              "            style=\"display:none;\">\n",
              "\n",
              "  <svg xmlns=\"http://www.w3.org/2000/svg\" height=\"24px\"viewBox=\"0 0 24 24\"\n",
              "       width=\"24px\">\n",
              "    <path d=\"M7,19H8.4L18.45,9,17,7.55,7,17.6ZM5,21V16.75L18.45,3.32a2,2,0,0,1,2.83,0l1.4,1.43a1.91,1.91,0,0,1,.58,1.4,1.91,1.91,0,0,1-.58,1.4L9.25,21ZM18.45,9,17,7.55Zm-12,3A5.31,5.31,0,0,0,4.9,8.1,5.31,5.31,0,0,0,1,6.5,5.31,5.31,0,0,0,4.9,4.9,5.31,5.31,0,0,0,6.5,1,5.31,5.31,0,0,0,8.1,4.9,5.31,5.31,0,0,0,12,6.5,5.46,5.46,0,0,0,6.5,12Z\"/>\n",
              "  </svg>\n",
              "    </button>\n",
              "    <script>\n",
              "      (() => {\n",
              "      const buttonEl =\n",
              "        document.querySelector('#id_ba6a85c3-5edd-4852-a5b4-6b7eb28129b7 button.colab-df-generate');\n",
              "      buttonEl.style.display =\n",
              "        google.colab.kernel.accessAllowed ? 'block' : 'none';\n",
              "\n",
              "      buttonEl.onclick = () => {\n",
              "        google.colab.notebook.generateWithVariable('X');\n",
              "      }\n",
              "      })();\n",
              "    </script>\n",
              "  </div>\n",
              "\n",
              "    </div>\n",
              "  </div>\n"
            ],
            "application/vnd.google.colaboratory.intrinsic+json": {
              "type": "dataframe",
              "variable_name": "X",
              "summary": "{\n  \"name\": \"X\",\n  \"rows\": 5110,\n  \"fields\": [\n    {\n      \"column\": \"id\",\n      \"properties\": {\n        \"dtype\": \"number\",\n        \"std\": 21161,\n        \"min\": 67,\n        \"max\": 72940,\n        \"num_unique_values\": 5110,\n        \"samples\": [\n          40041,\n          55244,\n          70992\n        ],\n        \"semantic_type\": \"\",\n        \"description\": \"\"\n      }\n    },\n    {\n      \"column\": \"gender\",\n      \"properties\": {\n        \"dtype\": \"category\",\n        \"num_unique_values\": 3,\n        \"samples\": [\n          \"Male\",\n          \"Female\",\n          \"Other\"\n        ],\n        \"semantic_type\": \"\",\n        \"description\": \"\"\n      }\n    },\n    {\n      \"column\": \"age\",\n      \"properties\": {\n        \"dtype\": \"number\",\n        \"std\": 22.61264672311352,\n        \"min\": 0.08,\n        \"max\": 82.0,\n        \"num_unique_values\": 104,\n        \"samples\": [\n          45.0,\n          24.0,\n          33.0\n        ],\n        \"semantic_type\": \"\",\n        \"description\": \"\"\n      }\n    },\n    {\n      \"column\": \"hypertension\",\n      \"properties\": {\n        \"dtype\": \"number\",\n        \"std\": 0,\n        \"min\": 0,\n        \"max\": 1,\n        \"num_unique_values\": 2,\n        \"samples\": [\n          1,\n          0\n        ],\n        \"semantic_type\": \"\",\n        \"description\": \"\"\n      }\n    },\n    {\n      \"column\": \"heart_disease\",\n      \"properties\": {\n        \"dtype\": \"number\",\n        \"std\": 0,\n        \"min\": 0,\n        \"max\": 1,\n        \"num_unique_values\": 2,\n        \"samples\": [\n          0,\n          1\n        ],\n        \"semantic_type\": \"\",\n        \"description\": \"\"\n      }\n    },\n    {\n      \"column\": \"ever_married\",\n      \"properties\": {\n        \"dtype\": \"category\",\n        \"num_unique_values\": 2,\n        \"samples\": [\n          \"No\",\n          \"Yes\"\n        ],\n        \"semantic_type\": \"\",\n        \"description\": \"\"\n      }\n    },\n    {\n      \"column\": \"work_type\",\n      \"properties\": {\n        \"dtype\": \"category\",\n        \"num_unique_values\": 5,\n        \"samples\": [\n          \"Self-employed\",\n          \"Never_worked\"\n        ],\n        \"semantic_type\": \"\",\n        \"description\": \"\"\n      }\n    },\n    {\n      \"column\": \"Residence_type\",\n      \"properties\": {\n        \"dtype\": \"category\",\n        \"num_unique_values\": 2,\n        \"samples\": [\n          \"Rural\",\n          \"Urban\"\n        ],\n        \"semantic_type\": \"\",\n        \"description\": \"\"\n      }\n    },\n    {\n      \"column\": \"avg_glucose_level\",\n      \"properties\": {\n        \"dtype\": \"number\",\n        \"std\": 45.28356015058203,\n        \"min\": 55.12,\n        \"max\": 271.74,\n        \"num_unique_values\": 3979,\n        \"samples\": [\n          178.29,\n          156.69\n        ],\n        \"semantic_type\": \"\",\n        \"description\": \"\"\n      }\n    },\n    {\n      \"column\": \"bmi\",\n      \"properties\": {\n        \"dtype\": \"number\",\n        \"std\": 7.854066729680158,\n        \"min\": 10.3,\n        \"max\": 97.6,\n        \"num_unique_values\": 418,\n        \"samples\": [\n          49.5,\n          18.5\n        ],\n        \"semantic_type\": \"\",\n        \"description\": \"\"\n      }\n    },\n    {\n      \"column\": \"smoking_status\",\n      \"properties\": {\n        \"dtype\": \"category\",\n        \"num_unique_values\": 4,\n        \"samples\": [\n          \"never smoked\",\n          \"Unknown\"\n        ],\n        \"semantic_type\": \"\",\n        \"description\": \"\"\n      }\n    }\n  ]\n}"
            }
          },
          "metadata": {},
          "execution_count": 56
        }
      ],
      "source": [
        "X"
      ]
    },
    {
      "cell_type": "code",
      "execution_count": null,
      "metadata": {
        "colab": {
          "base_uri": "https://localhost:8080/",
          "height": 458
        },
        "id": "h6f1h3vMKODe",
        "outputId": "eaa092d8-6bbf-4c94-f147-759ba7a2d616"
      },
      "outputs": [
        {
          "output_type": "execute_result",
          "data": {
            "text/plain": [
              "0       1\n",
              "1       1\n",
              "2       1\n",
              "3       1\n",
              "4       1\n",
              "       ..\n",
              "5105    0\n",
              "5106    0\n",
              "5107    0\n",
              "5108    0\n",
              "5109    0\n",
              "Name: stroke, Length: 5110, dtype: int64"
            ],
            "text/html": [
              "<div>\n",
              "<style scoped>\n",
              "    .dataframe tbody tr th:only-of-type {\n",
              "        vertical-align: middle;\n",
              "    }\n",
              "\n",
              "    .dataframe tbody tr th {\n",
              "        vertical-align: top;\n",
              "    }\n",
              "\n",
              "    .dataframe thead th {\n",
              "        text-align: right;\n",
              "    }\n",
              "</style>\n",
              "<table border=\"1\" class=\"dataframe\">\n",
              "  <thead>\n",
              "    <tr style=\"text-align: right;\">\n",
              "      <th></th>\n",
              "      <th>stroke</th>\n",
              "    </tr>\n",
              "  </thead>\n",
              "  <tbody>\n",
              "    <tr>\n",
              "      <th>0</th>\n",
              "      <td>1</td>\n",
              "    </tr>\n",
              "    <tr>\n",
              "      <th>1</th>\n",
              "      <td>1</td>\n",
              "    </tr>\n",
              "    <tr>\n",
              "      <th>2</th>\n",
              "      <td>1</td>\n",
              "    </tr>\n",
              "    <tr>\n",
              "      <th>3</th>\n",
              "      <td>1</td>\n",
              "    </tr>\n",
              "    <tr>\n",
              "      <th>4</th>\n",
              "      <td>1</td>\n",
              "    </tr>\n",
              "    <tr>\n",
              "      <th>...</th>\n",
              "      <td>...</td>\n",
              "    </tr>\n",
              "    <tr>\n",
              "      <th>5105</th>\n",
              "      <td>0</td>\n",
              "    </tr>\n",
              "    <tr>\n",
              "      <th>5106</th>\n",
              "      <td>0</td>\n",
              "    </tr>\n",
              "    <tr>\n",
              "      <th>5107</th>\n",
              "      <td>0</td>\n",
              "    </tr>\n",
              "    <tr>\n",
              "      <th>5108</th>\n",
              "      <td>0</td>\n",
              "    </tr>\n",
              "    <tr>\n",
              "      <th>5109</th>\n",
              "      <td>0</td>\n",
              "    </tr>\n",
              "  </tbody>\n",
              "</table>\n",
              "<p>5110 rows × 1 columns</p>\n",
              "</div><br><label><b>dtype:</b> int64</label>"
            ]
          },
          "metadata": {},
          "execution_count": 57
        }
      ],
      "source": [
        "y"
      ]
    },
    {
      "cell_type": "code",
      "execution_count": null,
      "metadata": {
        "colab": {
          "base_uri": "https://localhost:8080/"
        },
        "id": "C_sNnxbuKODe",
        "outputId": "ef558750-2423-4624-9f84-957918b6095f"
      },
      "outputs": [
        {
          "output_type": "stream",
          "name": "stdout",
          "text": [
            "<class 'pandas.core.frame.DataFrame'>\n",
            "RangeIndex: 5110 entries, 0 to 5109\n",
            "Data columns (total 12 columns):\n",
            " #   Column             Non-Null Count  Dtype  \n",
            "---  ------             --------------  -----  \n",
            " 0   id                 5110 non-null   int64  \n",
            " 1   gender             5110 non-null   object \n",
            " 2   age                5110 non-null   float64\n",
            " 3   hypertension       5110 non-null   int64  \n",
            " 4   heart_disease      5110 non-null   int64  \n",
            " 5   ever_married       5110 non-null   object \n",
            " 6   work_type          5110 non-null   object \n",
            " 7   Residence_type     5110 non-null   object \n",
            " 8   avg_glucose_level  5110 non-null   float64\n",
            " 9   bmi                4909 non-null   float64\n",
            " 10  smoking_status     5110 non-null   object \n",
            " 11  stroke             5110 non-null   int64  \n",
            "dtypes: float64(3), int64(4), object(5)\n",
            "memory usage: 479.2+ KB\n"
          ]
        }
      ],
      "source": [
        "data.info()"
      ]
    },
    {
      "cell_type": "code",
      "execution_count": null,
      "metadata": {
        "colab": {
          "base_uri": "https://localhost:8080/",
          "height": 460
        },
        "id": "VW49Nm8nKODf",
        "outputId": "6dbd74a5-02c1-45a5-efc6-056be86b804b"
      },
      "outputs": [
        {
          "output_type": "execute_result",
          "data": {
            "text/plain": [
              "id                     0\n",
              "gender                 0\n",
              "age                    0\n",
              "hypertension           0\n",
              "heart_disease          0\n",
              "ever_married           0\n",
              "work_type              0\n",
              "Residence_type         0\n",
              "avg_glucose_level      0\n",
              "bmi                  201\n",
              "smoking_status         0\n",
              "stroke                 0\n",
              "dtype: int64"
            ],
            "text/html": [
              "<div>\n",
              "<style scoped>\n",
              "    .dataframe tbody tr th:only-of-type {\n",
              "        vertical-align: middle;\n",
              "    }\n",
              "\n",
              "    .dataframe tbody tr th {\n",
              "        vertical-align: top;\n",
              "    }\n",
              "\n",
              "    .dataframe thead th {\n",
              "        text-align: right;\n",
              "    }\n",
              "</style>\n",
              "<table border=\"1\" class=\"dataframe\">\n",
              "  <thead>\n",
              "    <tr style=\"text-align: right;\">\n",
              "      <th></th>\n",
              "      <th>0</th>\n",
              "    </tr>\n",
              "  </thead>\n",
              "  <tbody>\n",
              "    <tr>\n",
              "      <th>id</th>\n",
              "      <td>0</td>\n",
              "    </tr>\n",
              "    <tr>\n",
              "      <th>gender</th>\n",
              "      <td>0</td>\n",
              "    </tr>\n",
              "    <tr>\n",
              "      <th>age</th>\n",
              "      <td>0</td>\n",
              "    </tr>\n",
              "    <tr>\n",
              "      <th>hypertension</th>\n",
              "      <td>0</td>\n",
              "    </tr>\n",
              "    <tr>\n",
              "      <th>heart_disease</th>\n",
              "      <td>0</td>\n",
              "    </tr>\n",
              "    <tr>\n",
              "      <th>ever_married</th>\n",
              "      <td>0</td>\n",
              "    </tr>\n",
              "    <tr>\n",
              "      <th>work_type</th>\n",
              "      <td>0</td>\n",
              "    </tr>\n",
              "    <tr>\n",
              "      <th>Residence_type</th>\n",
              "      <td>0</td>\n",
              "    </tr>\n",
              "    <tr>\n",
              "      <th>avg_glucose_level</th>\n",
              "      <td>0</td>\n",
              "    </tr>\n",
              "    <tr>\n",
              "      <th>bmi</th>\n",
              "      <td>201</td>\n",
              "    </tr>\n",
              "    <tr>\n",
              "      <th>smoking_status</th>\n",
              "      <td>0</td>\n",
              "    </tr>\n",
              "    <tr>\n",
              "      <th>stroke</th>\n",
              "      <td>0</td>\n",
              "    </tr>\n",
              "  </tbody>\n",
              "</table>\n",
              "</div><br><label><b>dtype:</b> int64</label>"
            ]
          },
          "metadata": {},
          "execution_count": 59
        }
      ],
      "source": [
        "data.isnull().sum()"
      ]
    },
    {
      "cell_type": "markdown",
      "source": [
        "**Found null values in bmi column, Replaced with average based on gender**"
      ],
      "metadata": {
        "id": "tmwy4IB5MndV"
      }
    },
    {
      "cell_type": "code",
      "execution_count": null,
      "metadata": {
        "id": "qY2SSRV-KODf"
      },
      "outputs": [],
      "source": [
        "average_bmi_male = data[data['gender'] == 'Male']['bmi'].mean()\n",
        "average_bmi_female = data[data['gender'] == 'Female']['bmi'].mean()"
      ]
    },
    {
      "cell_type": "markdown",
      "source": [],
      "metadata": {
        "id": "cEIoUai5MyMd"
      }
    },
    {
      "cell_type": "code",
      "execution_count": null,
      "metadata": {
        "colab": {
          "base_uri": "https://localhost:8080/"
        },
        "id": "uwh23hU8KODf",
        "outputId": "4349a168-864a-46cb-a8f4-4a99141a74c5"
      },
      "outputs": [
        {
          "output_type": "execute_result",
          "data": {
            "text/plain": [
              "np.float64(28.64793635007459)"
            ]
          },
          "metadata": {},
          "execution_count": 61
        }
      ],
      "source": [
        "average_bmi_male"
      ]
    },
    {
      "cell_type": "code",
      "execution_count": null,
      "metadata": {
        "colab": {
          "base_uri": "https://localhost:8080/"
        },
        "id": "dyllfqkKKODf",
        "outputId": "d6498900-b7eb-4b04-a550-66eebda5e4f5"
      },
      "outputs": [
        {
          "output_type": "execute_result",
          "data": {
            "text/plain": [
              "np.float64(29.065757680358992)"
            ]
          },
          "metadata": {},
          "execution_count": 62
        }
      ],
      "source": [
        "average_bmi_female"
      ]
    },
    {
      "cell_type": "code",
      "execution_count": null,
      "metadata": {
        "id": "oxTn-UUVKODf"
      },
      "outputs": [],
      "source": [
        "data['bmi'] = data.apply(\n",
        "    lambda row: average_bmi_male if row['gender'] == 'Male' and pd.isna(row['bmi']) else row['bmi'], axis=1)"
      ]
    },
    {
      "cell_type": "code",
      "execution_count": null,
      "metadata": {
        "id": "JPAGoGdRKODf"
      },
      "outputs": [],
      "source": [
        "data['bmi'] = data.apply(\n",
        "    lambda row: average_bmi_female if row['gender'] == 'Female' and pd.isna(row['bmi']) else row['bmi'], axis=1)"
      ]
    },
    {
      "cell_type": "code",
      "execution_count": null,
      "metadata": {
        "colab": {
          "base_uri": "https://localhost:8080/",
          "height": 460
        },
        "id": "BLHkSnHcKODf",
        "outputId": "2664ba6a-4a8b-4ed2-acde-823151e3de80"
      },
      "outputs": [
        {
          "output_type": "execute_result",
          "data": {
            "text/plain": [
              "id                   0\n",
              "gender               0\n",
              "age                  0\n",
              "hypertension         0\n",
              "heart_disease        0\n",
              "ever_married         0\n",
              "work_type            0\n",
              "Residence_type       0\n",
              "avg_glucose_level    0\n",
              "bmi                  0\n",
              "smoking_status       0\n",
              "stroke               0\n",
              "dtype: int64"
            ],
            "text/html": [
              "<div>\n",
              "<style scoped>\n",
              "    .dataframe tbody tr th:only-of-type {\n",
              "        vertical-align: middle;\n",
              "    }\n",
              "\n",
              "    .dataframe tbody tr th {\n",
              "        vertical-align: top;\n",
              "    }\n",
              "\n",
              "    .dataframe thead th {\n",
              "        text-align: right;\n",
              "    }\n",
              "</style>\n",
              "<table border=\"1\" class=\"dataframe\">\n",
              "  <thead>\n",
              "    <tr style=\"text-align: right;\">\n",
              "      <th></th>\n",
              "      <th>0</th>\n",
              "    </tr>\n",
              "  </thead>\n",
              "  <tbody>\n",
              "    <tr>\n",
              "      <th>id</th>\n",
              "      <td>0</td>\n",
              "    </tr>\n",
              "    <tr>\n",
              "      <th>gender</th>\n",
              "      <td>0</td>\n",
              "    </tr>\n",
              "    <tr>\n",
              "      <th>age</th>\n",
              "      <td>0</td>\n",
              "    </tr>\n",
              "    <tr>\n",
              "      <th>hypertension</th>\n",
              "      <td>0</td>\n",
              "    </tr>\n",
              "    <tr>\n",
              "      <th>heart_disease</th>\n",
              "      <td>0</td>\n",
              "    </tr>\n",
              "    <tr>\n",
              "      <th>ever_married</th>\n",
              "      <td>0</td>\n",
              "    </tr>\n",
              "    <tr>\n",
              "      <th>work_type</th>\n",
              "      <td>0</td>\n",
              "    </tr>\n",
              "    <tr>\n",
              "      <th>Residence_type</th>\n",
              "      <td>0</td>\n",
              "    </tr>\n",
              "    <tr>\n",
              "      <th>avg_glucose_level</th>\n",
              "      <td>0</td>\n",
              "    </tr>\n",
              "    <tr>\n",
              "      <th>bmi</th>\n",
              "      <td>0</td>\n",
              "    </tr>\n",
              "    <tr>\n",
              "      <th>smoking_status</th>\n",
              "      <td>0</td>\n",
              "    </tr>\n",
              "    <tr>\n",
              "      <th>stroke</th>\n",
              "      <td>0</td>\n",
              "    </tr>\n",
              "  </tbody>\n",
              "</table>\n",
              "</div><br><label><b>dtype:</b> int64</label>"
            ]
          },
          "metadata": {},
          "execution_count": 65
        }
      ],
      "source": [
        "data.isnull().sum()"
      ]
    },
    {
      "cell_type": "code",
      "execution_count": null,
      "metadata": {
        "colab": {
          "base_uri": "https://localhost:8080/"
        },
        "id": "DMwrmpJ2KODf",
        "outputId": "3ecfa829-ec01-48da-9f48-601f4fc35c90"
      },
      "outputs": [
        {
          "output_type": "stream",
          "name": "stdout",
          "text": [
            "(5110, 11) (5110,)\n"
          ]
        }
      ],
      "source": [
        "data['bmi']\n",
        "X\n",
        "print(X.shape,y.shape)"
      ]
    },
    {
      "cell_type": "markdown",
      "source": [
        "**Preprocessing Data, Onehotencoding for categorical columns**"
      ],
      "metadata": {
        "id": "iZ6P4ufDM0eu"
      }
    },
    {
      "cell_type": "code",
      "execution_count": null,
      "metadata": {
        "colab": {
          "base_uri": "https://localhost:8080/"
        },
        "id": "wNnOSkI3KODg",
        "outputId": "36f5cad2-5870-49e1-ff97-62d0825705cd"
      },
      "outputs": [
        {
          "output_type": "stream",
          "name": "stdout",
          "text": [
            "        age  avg_glucose_level       bmi  hypertension  heart_disease  \\\n",
            "0  1.051434           2.706375  1.001442     -0.328602       4.185032   \n",
            "1  0.786070           2.121559  0.022636     -0.328602      -0.238947   \n",
            "2  1.626390          -0.005028  0.468793     -0.328602       4.185032   \n",
            "3  0.255342           1.437358  0.715631     -0.328602      -0.238947   \n",
            "4  1.582163           1.501184 -0.635478      3.043196      -0.238947   \n",
            "\n",
            "   gender_Male  gender_Other  ever_married_Yes  work_type_Never_worked  \\\n",
            "0          1.0           0.0               1.0                     0.0   \n",
            "1          0.0           0.0               1.0                     0.0   \n",
            "2          1.0           0.0               1.0                     0.0   \n",
            "3          0.0           0.0               1.0                     0.0   \n",
            "4          0.0           0.0               1.0                     0.0   \n",
            "\n",
            "   work_type_Private  work_type_Self-employed  work_type_children  \\\n",
            "0                1.0                      0.0                 0.0   \n",
            "1                0.0                      1.0                 0.0   \n",
            "2                1.0                      0.0                 0.0   \n",
            "3                1.0                      0.0                 0.0   \n",
            "4                0.0                      1.0                 0.0   \n",
            "\n",
            "   Residence_type_Urban  smoking_status_formerly smoked  \\\n",
            "0                   1.0                             1.0   \n",
            "1                   0.0                             0.0   \n",
            "2                   0.0                             0.0   \n",
            "3                   1.0                             0.0   \n",
            "4                   0.0                             0.0   \n",
            "\n",
            "   smoking_status_never smoked  smoking_status_smokes  \n",
            "0                          0.0                    0.0  \n",
            "1                          1.0                    0.0  \n",
            "2                          1.0                    0.0  \n",
            "3                          0.0                    1.0  \n",
            "4                          1.0                    0.0  \n"
          ]
        }
      ],
      "source": [
        "import pandas as pd\n",
        "from sklearn.pipeline import Pipeline\n",
        "from sklearn.preprocessing import OneHotEncoder, StandardScaler\n",
        "from sklearn.impute import SimpleImputer\n",
        "from sklearn.compose import ColumnTransformer\n",
        "\n",
        "\n",
        "data = data.drop(columns=['id'])  # drop id\n",
        "\n",
        "# Define feature groups\n",
        "categorical_cols = ['gender', 'ever_married', 'work_type', 'Residence_type', 'smoking_status']\n",
        "numerical_cols = ['age', 'avg_glucose_level', 'bmi', 'hypertension', 'heart_disease']\n",
        "\n",
        "X = data.drop(columns=['stroke'])\n",
        "\n",
        "# Preprocessing pipelines\n",
        "numeric_transformer = Pipeline([\n",
        "    ('imputer', SimpleImputer(strategy='mean')),\n",
        "    ('scaler', StandardScaler())\n",
        "])\n",
        "\n",
        "categorical_transformer = Pipeline([\n",
        "    ('encoder', OneHotEncoder(drop='first', sparse_output=False))\n",
        "])\n",
        "\n",
        "# Column transformer\n",
        "preprocessor = ColumnTransformer([\n",
        "    ('num', numeric_transformer, numerical_cols),\n",
        "    ('cat', categorical_transformer, categorical_cols)\n",
        "])\n",
        "\n",
        "# Fit and transform\n",
        "X_encoded = preprocessor.fit_transform(X)\n",
        "\n",
        "# Get feature names\n",
        "encoded_cat_names = preprocessor.named_transformers_['cat']['encoder'].get_feature_names_out(categorical_cols)\n",
        "all_feature_names = numerical_cols + list(encoded_cat_names)\n",
        "\n",
        "# View transformed DataFrame\n",
        "encoded_df = pd.DataFrame(X_encoded, columns=all_feature_names)\n",
        "print(encoded_df.head())\n",
        "\n",
        "\n"
      ]
    },
    {
      "cell_type": "code",
      "execution_count": null,
      "metadata": {
        "colab": {
          "base_uri": "https://localhost:8080/"
        },
        "id": "fKzfDC8YKODg",
        "outputId": "af430ece-0998-4a76-99cd-81f492ecfa76"
      },
      "outputs": [
        {
          "output_type": "execute_result",
          "data": {
            "text/plain": [
              "(5110, 16)"
            ]
          },
          "metadata": {},
          "execution_count": 68
        }
      ],
      "source": [
        "X_encoded.shape"
      ]
    },
    {
      "cell_type": "markdown",
      "source": [],
      "metadata": {
        "id": "ClutsbTuNmBA"
      }
    },
    {
      "cell_type": "markdown",
      "source": [
        "**1.Implementing RandomForestClassifier  With Heart Stroke Data**\n"
      ],
      "metadata": {
        "id": "2OsxPN1fNsxJ"
      }
    },
    {
      "cell_type": "code",
      "execution_count": null,
      "metadata": {
        "colab": {
          "base_uri": "https://localhost:8080/"
        },
        "id": "YVBy4kS9KODg",
        "outputId": "c653acaa-041d-4580-d6f8-fe11ee743281"
      },
      "outputs": [
        {
          "output_type": "stream",
          "name": "stdout",
          "text": [
            "\n",
            "--- RandomForest (CV=3) ---\n",
            "Best Params: {'pca__n_components': 3, 'classifier__n_estimators': 10, 'classifier__min_samples_split': 2, 'classifier__max_depth': 5}\n",
            "Best CV Score: 0.95\n",
            "Test set score: 0.94\n",
            "\n",
            "--- RandomForest (CV=5) ---\n",
            "Best Params: {'pca__n_components': 3, 'classifier__n_estimators': 100, 'classifier__min_samples_split': 5, 'classifier__max_depth': 10}\n",
            "Best CV Score: 0.95\n",
            "Test set score: 0.94\n",
            "\n",
            "--- RandomForest (CV=7) ---\n",
            "Best Params: {'pca__n_components': 3, 'classifier__n_estimators': 10, 'classifier__min_samples_split': 2, 'classifier__max_depth': 5}\n",
            "Best CV Score: 0.95\n",
            "Test set score: 0.94\n"
          ]
        }
      ],
      "source": [
        "X_train, X_test, y_train, y_test = train_test_split(X_encoded, y, test_size=0.2, random_state=42)\n",
        "# Pipeline\n",
        "pipe = Pipeline([\n",
        "    ('scaler', StandardScaler()),\n",
        "    ('pca', PCA()),\n",
        "    ('classifier', RandomForestClassifier(random_state=42))\n",
        "])\n",
        "\n",
        "# Hyperparameter distribution\n",
        "param_dist = {\n",
        "    'pca__n_components': [2, 3],\n",
        "    'classifier__n_estimators': [10, 50, 100],\n",
        "    'classifier__max_depth': [None, 5, 10],\n",
        "    'classifier__min_samples_split': [2, 5]\n",
        "}\n",
        "\n",
        "# Try 3, 5, 7 fold CV\n",
        "for cv in [3, 5, 7]:\n",
        "    print(f\"\\n--- RandomForest (CV={cv}) ---\")\n",
        "    search = RandomizedSearchCV(pipe, param_distributions=param_dist, n_iter=5, cv=cv, random_state=42)\n",
        "    search.fit(X_train, y_train)\n",
        "    print(\"Best Params:\", search.best_params_)\n",
        "    print(\"Best CV Score: {:.2f}\".format(search.best_score_))\n",
        "    print(\"Test set score: {:.2f}\".format(search.score(X_test, y_test)))"
      ]
    },
    {
      "cell_type": "markdown",
      "source": [
        "**2.Implementing LogisticRegression  With Heart Stroke Data**\n"
      ],
      "metadata": {
        "id": "XgZX6iZEN4Ch"
      }
    },
    {
      "cell_type": "code",
      "execution_count": null,
      "metadata": {
        "colab": {
          "base_uri": "https://localhost:8080/"
        },
        "id": "w0EXjWUPKODg",
        "outputId": "e60dab80-6def-49ec-c85f-e123be649100"
      },
      "outputs": [
        {
          "output_type": "stream",
          "name": "stdout",
          "text": [
            "\n",
            "--- LogisticRegression (CV=3) ---\n",
            "Best Params: {'pca__n_components': 2, 'classifier__solver': 'lbfgs', 'classifier__penalty': 'l2', 'classifier__C': 0.01}\n",
            "Best CV Score: 0.95\n",
            "Test set score: 0.94\n",
            "\n",
            "--- LogisticRegression (CV=5) ---\n",
            "Best Params: {'pca__n_components': 2, 'classifier__solver': 'lbfgs', 'classifier__penalty': 'l2', 'classifier__C': 0.01}\n",
            "Best CV Score: 0.95\n",
            "Test set score: 0.94\n",
            "\n",
            "--- LogisticRegression (CV=7) ---\n",
            "Best Params: {'pca__n_components': 2, 'classifier__solver': 'lbfgs', 'classifier__penalty': 'l2', 'classifier__C': 0.01}\n",
            "Best CV Score: 0.95\n",
            "Test set score: 0.94\n"
          ]
        }
      ],
      "source": [
        "X_train, X_test, y_train, y_test = train_test_split(X_encoded, y, test_size=0.2, random_state=42)\n",
        "\n",
        "pipe = Pipeline([\n",
        "    ('scaler', StandardScaler()),\n",
        "    ('pca', PCA()),\n",
        "    ('classifier', LogisticRegression(max_iter=1000, random_state=42))\n",
        "])\n",
        "\n",
        "param_dist = {\n",
        "    'pca__n_components': [2, 3],\n",
        "    'classifier__C': [0.01, 0.1, 1, 10],\n",
        "    'classifier__penalty': ['l2'],\n",
        "    'classifier__solver': ['lbfgs', 'saga']\n",
        "}\n",
        "\n",
        "for cv in [3, 5, 7]:\n",
        "    print(f\"\\n--- LogisticRegression (CV={cv}) ---\")\n",
        "    search = RandomizedSearchCV(pipe, param_distributions=param_dist, n_iter=5, cv=cv, random_state=42)\n",
        "    search.fit(X_train, y_train)\n",
        "    print(\"Best Params:\", search.best_params_)\n",
        "    print(\"Best CV Score: {:.2f}\".format(search.best_score_))\n",
        "    print(\"Test set score: {:.2f}\".format(search.score(X_test, y_test)))"
      ]
    },
    {
      "cell_type": "markdown",
      "source": [
        "**3.Implementing Perceptron With Heart Stroke Data**\n",
        "\n",
        "\n",
        "---\n",
        "\n"
      ],
      "metadata": {
        "id": "xp8O177RN9lC"
      }
    },
    {
      "cell_type": "code",
      "execution_count": null,
      "metadata": {
        "colab": {
          "base_uri": "https://localhost:8080/"
        },
        "id": "RoTslWRoKODg",
        "outputId": "3518a84e-3e83-4148-d3ee-1cf27d7cf735"
      },
      "outputs": [
        {
          "output_type": "stream",
          "name": "stdout",
          "text": [
            "\n",
            "--- Perceptron (CV=3) ---\n",
            "Best Params: {'pca__n_components': 2, 'classifier__penalty': 'l1', 'classifier__max_iter': 500, 'classifier__alpha': 0.01}\n",
            "Best CV Score: 0.95\n",
            "Test set score: 0.94\n",
            "\n",
            "--- Perceptron (CV=5) ---\n",
            "Best Params: {'pca__n_components': 2, 'classifier__penalty': 'l1', 'classifier__max_iter': 500, 'classifier__alpha': 0.01}\n",
            "Best CV Score: 0.95\n",
            "Test set score: 0.94\n",
            "\n",
            "--- Perceptron (CV=7) ---\n",
            "Best Params: {'pca__n_components': 2, 'classifier__penalty': 'l2', 'classifier__max_iter': 1000, 'classifier__alpha': 0.01}\n",
            "Best CV Score: 0.95\n",
            "Test set score: 0.88\n"
          ]
        }
      ],
      "source": [
        "X_train, X_test, y_train, y_test = train_test_split(X_encoded, y, test_size=0.2, random_state=42)\n",
        "\n",
        "pipe = Pipeline([\n",
        "    ('scaler', StandardScaler()),\n",
        "    ('pca', PCA(n_components=2)),\n",
        "    ('classifier', Perceptron(random_state=42))\n",
        "])\n",
        "\n",
        "param_dist = {\n",
        "    'pca__n_components': [2, 3],\n",
        "    'classifier__penalty': ['l2', 'l1', None],\n",
        "    'classifier__alpha': [0.0001, 0.001, 0.01],\n",
        "    'classifier__max_iter': [500, 1000]\n",
        "}\n",
        "\n",
        "for cv in [3, 5, 7]:\n",
        "    print(f\"\\n--- Perceptron (CV={cv}) ---\")\n",
        "    search = RandomizedSearchCV(pipe, param_distributions=param_dist, n_iter=5, cv=cv, random_state=42)\n",
        "    search.fit(X_train, y_train)\n",
        "    print(\"Best Params:\", search.best_params_)\n",
        "    print(\"Best CV Score: {:.2f}\".format(search.best_score_))\n",
        "    print(\"Test set score: {:.2f}\".format(search.score(X_test, y_test)))"
      ]
    },
    {
      "cell_type": "markdown",
      "source": [
        "**4. Implementing KNeighborsClassifier With Heart Stroke Data**\n"
      ],
      "metadata": {
        "id": "CuSOyvO6OHKu"
      }
    },
    {
      "cell_type": "code",
      "source": [],
      "metadata": {
        "id": "hZgWmimvO0pi"
      },
      "execution_count": null,
      "outputs": []
    },
    {
      "cell_type": "code",
      "execution_count": null,
      "metadata": {
        "colab": {
          "base_uri": "https://localhost:8080/"
        },
        "id": "DrfNG2DkKODg",
        "outputId": "068cad6b-9aca-4e13-dc82-a59090c2fa3d"
      },
      "outputs": [
        {
          "output_type": "stream",
          "name": "stdout",
          "text": [
            "\n",
            "--- KNN (CV=3) ---\n",
            "Best Params: {'pca__n_components': 2, 'classifier__weights': 'uniform', 'classifier__p': 1, 'classifier__n_neighbors': 7}\n",
            "Best CV Score: 0.95\n",
            "Test set score: 0.94\n",
            "\n",
            "--- KNN (CV=5) ---\n",
            "Best Params: {'pca__n_components': 2, 'classifier__weights': 'uniform', 'classifier__p': 1, 'classifier__n_neighbors': 7}\n",
            "Best CV Score: 0.95\n",
            "Test set score: 0.94\n",
            "\n",
            "--- KNN (CV=7) ---\n",
            "Best Params: {'pca__n_components': 2, 'classifier__weights': 'uniform', 'classifier__p': 1, 'classifier__n_neighbors': 7}\n",
            "Best CV Score: 0.95\n",
            "Test set score: 0.94\n"
          ]
        }
      ],
      "source": [
        "X_train, X_test, y_train, y_test = train_test_split(X_encoded, y, test_size=0.2, random_state=42)\n",
        "\n",
        "pipe = Pipeline([\n",
        "    ('scaler', StandardScaler()),\n",
        "    ('pca', PCA(n_components=2)),\n",
        "    ('classifier', KNeighborsClassifier())\n",
        "])\n",
        "\n",
        "param_dist = {\n",
        "    'pca__n_components': [2, 3],\n",
        "    'classifier__n_neighbors': [3, 5, 7],\n",
        "    'classifier__weights': ['uniform', 'distance'],\n",
        "    'classifier__p': [1, 2]  # 1 = Manhattan, 2 = Euclidean\n",
        "}\n",
        "\n",
        "for cv in [3, 5, 7]:\n",
        "    print(f\"\\n--- KNN (CV={cv}) ---\")\n",
        "    search = RandomizedSearchCV(pipe, param_distributions=param_dist, n_iter=5, cv=cv, random_state=42)\n",
        "    search.fit(X_train, y_train)\n",
        "    print(\"Best Params:\", search.best_params_)\n",
        "    print(\"Best CV Score: {:.2f}\".format(search.best_score_))\n",
        "    print(\"Test set score: {:.2f}\".format(search.score(X_test, y_test)))"
      ]
    },
    {
      "cell_type": "code",
      "execution_count": null,
      "metadata": {
        "id": "AX_o-qScKODh"
      },
      "outputs": [],
      "source": []
    }
  ],
  "metadata": {
    "colab": {
      "provenance": [],
      "include_colab_link": true
    },
    "kernelspec": {
      "display_name": "Python [conda env:base] *",
      "language": "python",
      "name": "conda-base-py"
    },
    "language_info": {
      "codemirror_mode": {
        "name": "ipython",
        "version": 3
      },
      "file_extension": ".py",
      "mimetype": "text/x-python",
      "name": "python",
      "nbconvert_exporter": "python",
      "pygments_lexer": "ipython3",
      "version": "3.12.7"
    }
  },
  "nbformat": 4,
  "nbformat_minor": 0
}